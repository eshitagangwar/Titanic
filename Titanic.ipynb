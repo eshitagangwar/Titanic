{
  "nbformat": 4,
  "nbformat_minor": 0,
  "metadata": {
    "colab": {
      "name": "Titanic.ipynb",
      "version": "0.3.2",
      "provenance": [],
      "collapsed_sections": [
        "lh4mleDI6r9A",
        "pirsUnFN6sDa",
        "VvsFLH8m6sDt",
        "JILHDBls6sEJ",
        "ixVjStdn6sEQ",
        "Qh0sjcN46sEd",
        "tQg6kRt96sEh",
        "60kY3skH6sEq",
        "0yjq1t6z6sEs",
        "7cQVx3lw6sE3",
        "IAAjnSLP6sFE"
      ]
    },
    "language_info": {
      "codemirror_mode": {
        "name": "ipython",
        "version": 3
      },
      "file_extension": ".py",
      "mimetype": "text/x-python",
      "name": "python",
      "nbconvert_exporter": "python",
      "pygments_lexer": "ipython3",
      "version": "3.6.1"
    },
    "kernelspec": {
      "display_name": "Python 3",
      "language": "python",
      "name": "python3"
    }
  },
  "cells": [
    {
      "cell_type": "markdown",
      "metadata": {
        "id": "Q6X8DbTT6r7E",
        "colab_type": "text"
      },
      "source": [
        "## Titanic dataset"
      ]
    },
    {
      "cell_type": "code",
      "metadata": {
        "id": "clZHnC7V6r7O",
        "colab_type": "code",
        "colab": {}
      },
      "source": [
        "\n",
        "import pandas as pd\n",
        "import numpy as np\n",
        "\n",
        "import re\n",
        "\n",
        "\n",
        "import matplotlib.pyplot as plt\n",
        "% matplotlib inline\n",
        "\n",
        "\n",
        "from sklearn.model_selection import train_test_split\n",
        "\n",
        "\n",
        "from sklearn.preprocessing import MinMaxScaler\n",
        "\n",
        "\n",
        "from sklearn.tree import DecisionTreeClassifier\n",
        "from sklearn.model_selection import cro\n",
        "from sklearn.linear_model import LogisticRegression\n",
        "from sklearn.ensemble import AdaBoostClassifier\n",
        "from sklearn.ensemble import RandomForestClassifier\n",
        "\n",
        "from sklearn.metrics import roc_auc_score\n",
        "from sklearn import metrics\n",
        "\n",
        "pd.pandas.set_option('display.max_columns', None)\n",
        "\n",
        "import warnings\n",
        "warnings.filterwarnings('ignore')"
      ],
      "execution_count": 0,
      "outputs": []
    },
    {
      "cell_type": "code",
      "metadata": {
        "id": "P9RiJapI6r7V",
        "colab_type": "code",
        "colab": {
          "base_uri": "https://localhost:8080/",
          "height": 195
        },
        "outputId": "a63be0a2-8a7a-41ad-e636-20cae0353877"
      },
      "source": [
        "\n",
        "data = pd.read_csv('https://raw.githubusercontent.com/eshitagangwar/Titanic/master/train.csv')\n",
        "data.head()"
      ],
      "execution_count": 2,
      "outputs": [
        {
          "output_type": "execute_result",
          "data": {
            "text/html": [
              "<div>\n",
              "<style scoped>\n",
              "    .dataframe tbody tr th:only-of-type {\n",
              "        vertical-align: middle;\n",
              "    }\n",
              "\n",
              "    .dataframe tbody tr th {\n",
              "        vertical-align: top;\n",
              "    }\n",
              "\n",
              "    .dataframe thead th {\n",
              "        text-align: right;\n",
              "    }\n",
              "</style>\n",
              "<table border=\"1\" class=\"dataframe\">\n",
              "  <thead>\n",
              "    <tr style=\"text-align: right;\">\n",
              "      <th></th>\n",
              "      <th>PassengerId</th>\n",
              "      <th>Survived</th>\n",
              "      <th>Pclass</th>\n",
              "      <th>Name</th>\n",
              "      <th>Sex</th>\n",
              "      <th>Age</th>\n",
              "      <th>SibSp</th>\n",
              "      <th>Parch</th>\n",
              "      <th>Ticket</th>\n",
              "      <th>Fare</th>\n",
              "      <th>Cabin</th>\n",
              "      <th>Embarked</th>\n",
              "    </tr>\n",
              "  </thead>\n",
              "  <tbody>\n",
              "    <tr>\n",
              "      <th>0</th>\n",
              "      <td>1</td>\n",
              "      <td>0</td>\n",
              "      <td>3</td>\n",
              "      <td>Braund, Mr. Owen Harris</td>\n",
              "      <td>male</td>\n",
              "      <td>22.0</td>\n",
              "      <td>1</td>\n",
              "      <td>0</td>\n",
              "      <td>A/5 21171</td>\n",
              "      <td>7.2500</td>\n",
              "      <td>NaN</td>\n",
              "      <td>S</td>\n",
              "    </tr>\n",
              "    <tr>\n",
              "      <th>1</th>\n",
              "      <td>2</td>\n",
              "      <td>1</td>\n",
              "      <td>1</td>\n",
              "      <td>Cumings, Mrs. John Bradley (Florence Briggs Th...</td>\n",
              "      <td>female</td>\n",
              "      <td>38.0</td>\n",
              "      <td>1</td>\n",
              "      <td>0</td>\n",
              "      <td>PC 17599</td>\n",
              "      <td>71.2833</td>\n",
              "      <td>C85</td>\n",
              "      <td>C</td>\n",
              "    </tr>\n",
              "    <tr>\n",
              "      <th>2</th>\n",
              "      <td>3</td>\n",
              "      <td>1</td>\n",
              "      <td>3</td>\n",
              "      <td>Heikkinen, Miss. Laina</td>\n",
              "      <td>female</td>\n",
              "      <td>26.0</td>\n",
              "      <td>0</td>\n",
              "      <td>0</td>\n",
              "      <td>STON/O2. 3101282</td>\n",
              "      <td>7.9250</td>\n",
              "      <td>NaN</td>\n",
              "      <td>S</td>\n",
              "    </tr>\n",
              "    <tr>\n",
              "      <th>3</th>\n",
              "      <td>4</td>\n",
              "      <td>1</td>\n",
              "      <td>1</td>\n",
              "      <td>Futrelle, Mrs. Jacques Heath (Lily May Peel)</td>\n",
              "      <td>female</td>\n",
              "      <td>35.0</td>\n",
              "      <td>1</td>\n",
              "      <td>0</td>\n",
              "      <td>113803</td>\n",
              "      <td>53.1000</td>\n",
              "      <td>C123</td>\n",
              "      <td>S</td>\n",
              "    </tr>\n",
              "    <tr>\n",
              "      <th>4</th>\n",
              "      <td>5</td>\n",
              "      <td>0</td>\n",
              "      <td>3</td>\n",
              "      <td>Allen, Mr. William Henry</td>\n",
              "      <td>male</td>\n",
              "      <td>35.0</td>\n",
              "      <td>0</td>\n",
              "      <td>0</td>\n",
              "      <td>373450</td>\n",
              "      <td>8.0500</td>\n",
              "      <td>NaN</td>\n",
              "      <td>S</td>\n",
              "    </tr>\n",
              "  </tbody>\n",
              "</table>\n",
              "</div>"
            ],
            "text/plain": [
              "   PassengerId  Survived  Pclass  \\\n",
              "0            1         0       3   \n",
              "1            2         1       1   \n",
              "2            3         1       3   \n",
              "3            4         1       1   \n",
              "4            5         0       3   \n",
              "\n",
              "                                                Name     Sex   Age  SibSp  \\\n",
              "0                            Braund, Mr. Owen Harris    male  22.0      1   \n",
              "1  Cumings, Mrs. John Bradley (Florence Briggs Th...  female  38.0      1   \n",
              "2                             Heikkinen, Miss. Laina  female  26.0      0   \n",
              "3       Futrelle, Mrs. Jacques Heath (Lily May Peel)  female  35.0      1   \n",
              "4                           Allen, Mr. William Henry    male  35.0      0   \n",
              "\n",
              "   Parch            Ticket     Fare Cabin Embarked  \n",
              "0      0         A/5 21171   7.2500   NaN        S  \n",
              "1      0          PC 17599  71.2833   C85        C  \n",
              "2      0  STON/O2. 3101282   7.9250   NaN        S  \n",
              "3      0            113803  53.1000  C123        S  \n",
              "4      0            373450   8.0500   NaN        S  "
            ]
          },
          "metadata": {
            "tags": []
          },
          "execution_count": 2
        }
      ]
    },
    {
      "cell_type": "code",
      "metadata": {
        "id": "EJ_ZNS8w6r7c",
        "colab_type": "code",
        "colab": {
          "base_uri": "https://localhost:8080/",
          "height": 195
        },
        "outputId": "789326af-be76-470b-883f-08cc34e274e8"
      },
      "source": [
        "#Submission\n",
        "\n",
        "submission = pd.read_csv('https://raw.githubusercontent.com/eshitagangwar/Titanic/master/test.csv')\n",
        "submission.head()"
      ],
      "execution_count": 3,
      "outputs": [
        {
          "output_type": "execute_result",
          "data": {
            "text/html": [
              "<div>\n",
              "<style scoped>\n",
              "    .dataframe tbody tr th:only-of-type {\n",
              "        vertical-align: middle;\n",
              "    }\n",
              "\n",
              "    .dataframe tbody tr th {\n",
              "        vertical-align: top;\n",
              "    }\n",
              "\n",
              "    .dataframe thead th {\n",
              "        text-align: right;\n",
              "    }\n",
              "</style>\n",
              "<table border=\"1\" class=\"dataframe\">\n",
              "  <thead>\n",
              "    <tr style=\"text-align: right;\">\n",
              "      <th></th>\n",
              "      <th>PassengerId</th>\n",
              "      <th>Pclass</th>\n",
              "      <th>Name</th>\n",
              "      <th>Sex</th>\n",
              "      <th>Age</th>\n",
              "      <th>SibSp</th>\n",
              "      <th>Parch</th>\n",
              "      <th>Ticket</th>\n",
              "      <th>Fare</th>\n",
              "      <th>Cabin</th>\n",
              "      <th>Embarked</th>\n",
              "    </tr>\n",
              "  </thead>\n",
              "  <tbody>\n",
              "    <tr>\n",
              "      <th>0</th>\n",
              "      <td>892</td>\n",
              "      <td>3</td>\n",
              "      <td>Kelly, Mr. James</td>\n",
              "      <td>male</td>\n",
              "      <td>34.5</td>\n",
              "      <td>0</td>\n",
              "      <td>0</td>\n",
              "      <td>330911</td>\n",
              "      <td>7.8292</td>\n",
              "      <td>NaN</td>\n",
              "      <td>Q</td>\n",
              "    </tr>\n",
              "    <tr>\n",
              "      <th>1</th>\n",
              "      <td>893</td>\n",
              "      <td>3</td>\n",
              "      <td>Wilkes, Mrs. James (Ellen Needs)</td>\n",
              "      <td>female</td>\n",
              "      <td>47.0</td>\n",
              "      <td>1</td>\n",
              "      <td>0</td>\n",
              "      <td>363272</td>\n",
              "      <td>7.0000</td>\n",
              "      <td>NaN</td>\n",
              "      <td>S</td>\n",
              "    </tr>\n",
              "    <tr>\n",
              "      <th>2</th>\n",
              "      <td>894</td>\n",
              "      <td>2</td>\n",
              "      <td>Myles, Mr. Thomas Francis</td>\n",
              "      <td>male</td>\n",
              "      <td>62.0</td>\n",
              "      <td>0</td>\n",
              "      <td>0</td>\n",
              "      <td>240276</td>\n",
              "      <td>9.6875</td>\n",
              "      <td>NaN</td>\n",
              "      <td>Q</td>\n",
              "    </tr>\n",
              "    <tr>\n",
              "      <th>3</th>\n",
              "      <td>895</td>\n",
              "      <td>3</td>\n",
              "      <td>Wirz, Mr. Albert</td>\n",
              "      <td>male</td>\n",
              "      <td>27.0</td>\n",
              "      <td>0</td>\n",
              "      <td>0</td>\n",
              "      <td>315154</td>\n",
              "      <td>8.6625</td>\n",
              "      <td>NaN</td>\n",
              "      <td>S</td>\n",
              "    </tr>\n",
              "    <tr>\n",
              "      <th>4</th>\n",
              "      <td>896</td>\n",
              "      <td>3</td>\n",
              "      <td>Hirvonen, Mrs. Alexander (Helga E Lindqvist)</td>\n",
              "      <td>female</td>\n",
              "      <td>22.0</td>\n",
              "      <td>1</td>\n",
              "      <td>1</td>\n",
              "      <td>3101298</td>\n",
              "      <td>12.2875</td>\n",
              "      <td>NaN</td>\n",
              "      <td>S</td>\n",
              "    </tr>\n",
              "  </tbody>\n",
              "</table>\n",
              "</div>"
            ],
            "text/plain": [
              "   PassengerId  Pclass                                          Name     Sex  \\\n",
              "0          892       3                              Kelly, Mr. James    male   \n",
              "1          893       3              Wilkes, Mrs. James (Ellen Needs)  female   \n",
              "2          894       2                     Myles, Mr. Thomas Francis    male   \n",
              "3          895       3                              Wirz, Mr. Albert    male   \n",
              "4          896       3  Hirvonen, Mrs. Alexander (Helga E Lindqvist)  female   \n",
              "\n",
              "    Age  SibSp  Parch   Ticket     Fare Cabin Embarked  \n",
              "0  34.5      0      0   330911   7.8292   NaN        Q  \n",
              "1  47.0      1      0   363272   7.0000   NaN        S  \n",
              "2  62.0      0      0   240276   9.6875   NaN        Q  \n",
              "3  27.0      0      0   315154   8.6625   NaN        S  \n",
              "4  22.0      1      1  3101298  12.2875   NaN        S  "
            ]
          },
          "metadata": {
            "tags": []
          },
          "execution_count": 3
        }
      ]
    },
    {
      "cell_type": "code",
      "metadata": {
        "id": "559hgFeO6r70",
        "colab_type": "code",
        "colab": {
          "base_uri": "https://localhost:8080/",
          "height": 235
        },
        "outputId": "009b7aba-b42f-4954-9dec-e2c3544a78de"
      },
      "source": [
        "#the type of variables in pandas\n",
        "data.dtypes"
      ],
      "execution_count": 4,
      "outputs": [
        {
          "output_type": "execute_result",
          "data": {
            "text/plain": [
              "PassengerId      int64\n",
              "Survived         int64\n",
              "Pclass           int64\n",
              "Name            object\n",
              "Sex             object\n",
              "Age            float64\n",
              "SibSp            int64\n",
              "Parch            int64\n",
              "Ticket          object\n",
              "Fare           float64\n",
              "Cabin           object\n",
              "Embarked        object\n",
              "dtype: object"
            ]
          },
          "metadata": {
            "tags": []
          },
          "execution_count": 4
        }
      ]
    },
    {
      "cell_type": "markdown",
      "metadata": {
        "id": "QS7-Sp2G6r8V",
        "colab_type": "text"
      },
      "source": [
        "PassengerId is a unique identifier for each of the passengers. Thus this is not a variable that we can use."
      ]
    },
    {
      "cell_type": "code",
      "metadata": {
        "id": "q8IpoY5z6r8W",
        "colab_type": "code",
        "colab": {
          "base_uri": "https://localhost:8080/",
          "height": 34
        },
        "outputId": "8aeef759-3e83-4e4c-e737-e0112d3d2efb"
      },
      "source": [
        "# find categorical variables\n",
        "categorical = [var for var in data.columns if data[var].dtype=='O']\n",
        "print('There are {} categorical variables'.format(len(categorical)))"
      ],
      "execution_count": 6,
      "outputs": [
        {
          "output_type": "stream",
          "text": [
            "There are 5 categorical variables\n"
          ],
          "name": "stdout"
        }
      ]
    },
    {
      "cell_type": "code",
      "metadata": {
        "id": "n_Ufx_bw6r8e",
        "colab_type": "code",
        "colab": {
          "base_uri": "https://localhost:8080/",
          "height": 34
        },
        "outputId": "d6d6be91-eca7-400d-b687-3e48a8d3fe8a"
      },
      "source": [
        "# find numerical variables\n",
        "numerical = [var for var in data.columns if data[var].dtype!='O']\n",
        "print('There are {} numerical variables'.format(len(numerical)))"
      ],
      "execution_count": 7,
      "outputs": [
        {
          "output_type": "stream",
          "text": [
            "There are 7 numerical variables\n"
          ],
          "name": "stdout"
        }
      ]
    },
    {
      "cell_type": "code",
      "metadata": {
        "id": "1wTrgM366r8r",
        "colab_type": "code",
        "colab": {
          "base_uri": "https://localhost:8080/",
          "height": 195
        },
        "outputId": "bde00c2c-29de-4cd3-aca1-a5ca188138fb"
      },
      "source": [
        "# view of categorical variables\n",
        "data[categorical].head()"
      ],
      "execution_count": 8,
      "outputs": [
        {
          "output_type": "execute_result",
          "data": {
            "text/html": [
              "<div>\n",
              "<style scoped>\n",
              "    .dataframe tbody tr th:only-of-type {\n",
              "        vertical-align: middle;\n",
              "    }\n",
              "\n",
              "    .dataframe tbody tr th {\n",
              "        vertical-align: top;\n",
              "    }\n",
              "\n",
              "    .dataframe thead th {\n",
              "        text-align: right;\n",
              "    }\n",
              "</style>\n",
              "<table border=\"1\" class=\"dataframe\">\n",
              "  <thead>\n",
              "    <tr style=\"text-align: right;\">\n",
              "      <th></th>\n",
              "      <th>Name</th>\n",
              "      <th>Sex</th>\n",
              "      <th>Ticket</th>\n",
              "      <th>Cabin</th>\n",
              "      <th>Embarked</th>\n",
              "    </tr>\n",
              "  </thead>\n",
              "  <tbody>\n",
              "    <tr>\n",
              "      <th>0</th>\n",
              "      <td>Braund, Mr. Owen Harris</td>\n",
              "      <td>male</td>\n",
              "      <td>A/5 21171</td>\n",
              "      <td>NaN</td>\n",
              "      <td>S</td>\n",
              "    </tr>\n",
              "    <tr>\n",
              "      <th>1</th>\n",
              "      <td>Cumings, Mrs. John Bradley (Florence Briggs Th...</td>\n",
              "      <td>female</td>\n",
              "      <td>PC 17599</td>\n",
              "      <td>C85</td>\n",
              "      <td>C</td>\n",
              "    </tr>\n",
              "    <tr>\n",
              "      <th>2</th>\n",
              "      <td>Heikkinen, Miss. Laina</td>\n",
              "      <td>female</td>\n",
              "      <td>STON/O2. 3101282</td>\n",
              "      <td>NaN</td>\n",
              "      <td>S</td>\n",
              "    </tr>\n",
              "    <tr>\n",
              "      <th>3</th>\n",
              "      <td>Futrelle, Mrs. Jacques Heath (Lily May Peel)</td>\n",
              "      <td>female</td>\n",
              "      <td>113803</td>\n",
              "      <td>C123</td>\n",
              "      <td>S</td>\n",
              "    </tr>\n",
              "    <tr>\n",
              "      <th>4</th>\n",
              "      <td>Allen, Mr. William Henry</td>\n",
              "      <td>male</td>\n",
              "      <td>373450</td>\n",
              "      <td>NaN</td>\n",
              "      <td>S</td>\n",
              "    </tr>\n",
              "  </tbody>\n",
              "</table>\n",
              "</div>"
            ],
            "text/plain": [
              "                                                Name     Sex  \\\n",
              "0                            Braund, Mr. Owen Harris    male   \n",
              "1  Cumings, Mrs. John Bradley (Florence Briggs Th...  female   \n",
              "2                             Heikkinen, Miss. Laina  female   \n",
              "3       Futrelle, Mrs. Jacques Heath (Lily May Peel)  female   \n",
              "4                           Allen, Mr. William Henry    male   \n",
              "\n",
              "             Ticket Cabin Embarked  \n",
              "0         A/5 21171   NaN        S  \n",
              "1          PC 17599   C85        C  \n",
              "2  STON/O2. 3101282   NaN        S  \n",
              "3            113803  C123        S  \n",
              "4            373450   NaN        S  "
            ]
          },
          "metadata": {
            "tags": []
          },
          "execution_count": 8
        }
      ]
    },
    {
      "cell_type": "markdown",
      "metadata": {
        "id": "lVYICU7y6r8x",
        "colab_type": "text"
      },
      "source": [
        " mixed type of variables: Cabin and Ticket\n",
        "\n",
        "Cabin and Ticket contain both numbers and letters. "
      ]
    },
    {
      "cell_type": "code",
      "metadata": {
        "id": "iHeVwZLj6r80",
        "colab_type": "code",
        "colab": {
          "base_uri": "https://localhost:8080/",
          "height": 195
        },
        "outputId": "65be6175-a7d7-401f-f2fa-b7ebfe152b42"
      },
      "source": [
        "# view of numerical variables\n",
        "data[numerical].head()"
      ],
      "execution_count": 9,
      "outputs": [
        {
          "output_type": "execute_result",
          "data": {
            "text/html": [
              "<div>\n",
              "<style scoped>\n",
              "    .dataframe tbody tr th:only-of-type {\n",
              "        vertical-align: middle;\n",
              "    }\n",
              "\n",
              "    .dataframe tbody tr th {\n",
              "        vertical-align: top;\n",
              "    }\n",
              "\n",
              "    .dataframe thead th {\n",
              "        text-align: right;\n",
              "    }\n",
              "</style>\n",
              "<table border=\"1\" class=\"dataframe\">\n",
              "  <thead>\n",
              "    <tr style=\"text-align: right;\">\n",
              "      <th></th>\n",
              "      <th>PassengerId</th>\n",
              "      <th>Survived</th>\n",
              "      <th>Pclass</th>\n",
              "      <th>Age</th>\n",
              "      <th>SibSp</th>\n",
              "      <th>Parch</th>\n",
              "      <th>Fare</th>\n",
              "    </tr>\n",
              "  </thead>\n",
              "  <tbody>\n",
              "    <tr>\n",
              "      <th>0</th>\n",
              "      <td>1</td>\n",
              "      <td>0</td>\n",
              "      <td>3</td>\n",
              "      <td>22.0</td>\n",
              "      <td>1</td>\n",
              "      <td>0</td>\n",
              "      <td>7.2500</td>\n",
              "    </tr>\n",
              "    <tr>\n",
              "      <th>1</th>\n",
              "      <td>2</td>\n",
              "      <td>1</td>\n",
              "      <td>1</td>\n",
              "      <td>38.0</td>\n",
              "      <td>1</td>\n",
              "      <td>0</td>\n",
              "      <td>71.2833</td>\n",
              "    </tr>\n",
              "    <tr>\n",
              "      <th>2</th>\n",
              "      <td>3</td>\n",
              "      <td>1</td>\n",
              "      <td>3</td>\n",
              "      <td>26.0</td>\n",
              "      <td>0</td>\n",
              "      <td>0</td>\n",
              "      <td>7.9250</td>\n",
              "    </tr>\n",
              "    <tr>\n",
              "      <th>3</th>\n",
              "      <td>4</td>\n",
              "      <td>1</td>\n",
              "      <td>1</td>\n",
              "      <td>35.0</td>\n",
              "      <td>1</td>\n",
              "      <td>0</td>\n",
              "      <td>53.1000</td>\n",
              "    </tr>\n",
              "    <tr>\n",
              "      <th>4</th>\n",
              "      <td>5</td>\n",
              "      <td>0</td>\n",
              "      <td>3</td>\n",
              "      <td>35.0</td>\n",
              "      <td>0</td>\n",
              "      <td>0</td>\n",
              "      <td>8.0500</td>\n",
              "    </tr>\n",
              "  </tbody>\n",
              "</table>\n",
              "</div>"
            ],
            "text/plain": [
              "   PassengerId  Survived  Pclass   Age  SibSp  Parch     Fare\n",
              "0            1         0       3  22.0      1      0   7.2500\n",
              "1            2         1       1  38.0      1      0  71.2833\n",
              "2            3         1       3  26.0      0      0   7.9250\n",
              "3            4         1       1  35.0      1      0  53.1000\n",
              "4            5         0       3  35.0      0      0   8.0500"
            ]
          },
          "metadata": {
            "tags": []
          },
          "execution_count": 9
        }
      ]
    },
    {
      "cell_type": "markdown",
      "metadata": {
        "id": "sYGVbHxu6r85",
        "colab_type": "text"
      },
      "source": [
        "- 3 Discrete variables: Pclass, SibSp and Parch\n",
        "- 2 continuos variables: Fare and Age\n",
        "- 1 Id variable: PassengerId (it is a label for each of the passengers)\n",
        "- 1 binary: Survived (target variable)."
      ]
    },
    {
      "cell_type": "code",
      "metadata": {
        "id": "iNexMdyt6r86",
        "colab_type": "code",
        "colab": {
          "base_uri": "https://localhost:8080/",
          "height": 67
        },
        "outputId": "55184368-fc3f-4846-b3fa-f8eb7c77ff13"
      },
      "source": [
        "# let's visualise the values of the discrete variables\n",
        "for var in ['Pclass',  'SibSp', 'Parch']:\n",
        "    print(var, ' values: ', data[var].unique())"
      ],
      "execution_count": 10,
      "outputs": [
        {
          "output_type": "stream",
          "text": [
            "Pclass  values:  [3 1 2]\n",
            "SibSp  values:  [1 0 3 4 2 5 8]\n",
            "Parch  values:  [0 1 2 5 3 4 6]\n"
          ],
          "name": "stdout"
        }
      ]
    },
    {
      "cell_type": "markdown",
      "metadata": {
        "id": "lh4mleDI6r9A",
        "colab_type": "text"
      },
      "source": [
        "#### Types of variables, summary:\n",
        "\n",
        "- 5 categorical variables: from them 2 could be treated as mixed type of variables (numbers and strings)\n",
        "- 7 numerical variables: 3 discrete, 2 continious, 1 Id, and 1 binary target"
      ]
    },
    {
      "cell_type": "markdown",
      "metadata": {
        "id": "qBmxOntK6r9B",
        "colab_type": "text"
      },
      "source": [
        "\n",
        "\n",
        "#### Missing values"
      ]
    },
    {
      "cell_type": "code",
      "metadata": {
        "id": "ujfIcsa36r9G",
        "colab_type": "code",
        "colab": {
          "base_uri": "https://localhost:8080/",
          "height": 235
        },
        "outputId": "6ec10075-87bb-4a67-9bb8-f009819a8215"
      },
      "source": [
        "# let's visualise the percentage of missing values\n",
        "data.isnull().mean()"
      ],
      "execution_count": 11,
      "outputs": [
        {
          "output_type": "execute_result",
          "data": {
            "text/plain": [
              "PassengerId    0.000000\n",
              "Survived       0.000000\n",
              "Pclass         0.000000\n",
              "Name           0.000000\n",
              "Sex            0.000000\n",
              "Age            0.198653\n",
              "SibSp          0.000000\n",
              "Parch          0.000000\n",
              "Ticket         0.000000\n",
              "Fare           0.000000\n",
              "Cabin          0.771044\n",
              "Embarked       0.002245\n",
              "dtype: float64"
            ]
          },
          "metadata": {
            "tags": []
          },
          "execution_count": 11
        }
      ]
    },
    {
      "cell_type": "markdown",
      "metadata": {
        "id": "bpkKH5Kf6r9M",
        "colab_type": "text"
      },
      "source": [
        "Three of the variables contain missing data, Age (~20%), Cabin (~77%) and Embarked (< 1%)\n",
        "\n",
        "#### Outliers"
      ]
    },
    {
      "cell_type": "code",
      "metadata": {
        "id": "ezQakM966r9O",
        "colab_type": "code",
        "colab": {
          "base_uri": "https://localhost:8080/",
          "height": 34
        },
        "outputId": "b38ffdc0-8ced-4d5d-c451-77883b201ab7"
      },
      "source": [
        "numerical = [var for var in numerical if var not in['Survived', 'PassengerId']]\n",
        "numerical"
      ],
      "execution_count": 12,
      "outputs": [
        {
          "output_type": "execute_result",
          "data": {
            "text/plain": [
              "['Pclass', 'Age', 'SibSp', 'Parch', 'Fare']"
            ]
          },
          "metadata": {
            "tags": []
          },
          "execution_count": 12
        }
      ]
    },
    {
      "cell_type": "code",
      "metadata": {
        "id": "fIk6fVAX6r9U",
        "colab_type": "code",
        "colab": {
          "base_uri": "https://localhost:8080/",
          "height": 394
        },
        "outputId": "a8ee1c09-0810-4087-ed0f-fdb03d7e289c"
      },
      "source": [
        "# boxplots to visualise outliers in the continouos variables \n",
        "# Age and Fare\n",
        "\n",
        "plt.figure(figsize=(15,6))\n",
        "plt.subplot(1, 2, 1)\n",
        "fig = data.boxplot(column='Age')\n",
        "fig.set_title('')\n",
        "fig.set_ylabel('Age')\n",
        "\n",
        "plt.subplot(1, 2, 2)\n",
        "fig = data.boxplot(column='Fare')\n",
        "fig.set_title('')\n",
        "fig.set_ylabel('Fare')"
      ],
      "execution_count": 13,
      "outputs": [
        {
          "output_type": "execute_result",
          "data": {
            "text/plain": [
              "Text(0, 0.5, 'Fare')"
            ]
          },
          "metadata": {
            "tags": []
          },
          "execution_count": 13
        },
        {
          "output_type": "display_data",
          "data": {
            "image/png": "[encoded data removed]",
            "text/plain": [
              "<Figure size 1080x432 with 2 Axes>"
            ]
          },
          "metadata": {
            "tags": []
          }
        }
      ]
    },
    {
      "cell_type": "markdown",
      "metadata": {
        "id": "8jN0NUIy6r9a",
        "colab_type": "text"
      },
      "source": [
        "Both Age and Fare contain outliers. Let's find which valuers are the outliers"
      ]
    },
    {
      "cell_type": "code",
      "metadata": {
        "id": "DT1LR7Y86r9b",
        "colab_type": "code",
        "colab": {
          "base_uri": "https://localhost:8080/",
          "height": 409
        },
        "outputId": "4a7dfdda-a846-48a8-806a-0659618f402f"
      },
      "source": [
        "# first we plot the distributions to find out if they are Gaussian or skewed.\n",
        "# Depending on the distribution, we will use the normal assummption or the interquantile\n",
        "# range to find outliers\n",
        "\n",
        "plt.figure(figsize=(15,6))\n",
        "plt.subplot(1, 2, 1)\n",
        "fig = data.Age.hist(bins=20)\n",
        "fig.set_ylabel('Number of passengers')\n",
        "fig.set_xlabel('Age')\n",
        "\n",
        "plt.subplot(1, 2, 2)\n",
        "fig = data.Fare.hist(bins=20)\n",
        "fig.set_ylabel('Number of passengers')\n",
        "fig.set_xlabel('Fare')"
      ],
      "execution_count": 14,
      "outputs": [
        {
          "output_type": "execute_result",
          "data": {
            "text/plain": [
              "Text(0.5, 0, 'Fare')"
            ]
          },
          "metadata": {
            "tags": []
          },
          "execution_count": 14
        },
        {
          "output_type": "display_data",
          "data": {
            "image/png": "[encoded data removed]",
            "text/plain": [
              "<Figure size 1080x432 with 2 Axes>"
            ]
          },
          "metadata": {
            "tags": []
          }
        }
      ]
    },
    {
      "cell_type": "markdown",
      "metadata": {
        "id": "n5NCPiTr6r9l",
        "colab_type": "text"
      },
      "source": [
        "Age is quite Gaussian and Fare is skewed, so I will use the Gaussian assumption for Age, and the interquantile range for Fare"
      ]
    },
    {
      "cell_type": "code",
      "metadata": {
        "id": "TQeuXVfH6r9p",
        "colab_type": "code",
        "colab": {
          "base_uri": "https://localhost:8080/",
          "height": 50
        },
        "outputId": "10234124-084a-406b-ce48-0b06a9595f87"
      },
      "source": [
        "# find outliers\n",
        "\n",
        "# Age\n",
        "Upper_boundary = data.Age.mean() + 3* data.Age.std()\n",
        "Lower_boundary = data.Age.mean() - 3* data.Age.std()\n",
        "print('Age outliers are values < {lowerboundary} or > {upperboundary}'.format(lowerboundary=Lower_boundary, upperboundary=Upper_boundary))\n",
        "\n",
        "# Fare\n",
        "IQR = data.Fare.quantile(0.75) - data.Fare.quantile(0.25)\n",
        "Lower_fence = data.Fare.quantile(0.25) - (IQR * 3)\n",
        "Upper_fence = data.Fare.quantile(0.75) + (IQR * 3)\n",
        "print('Fare outliers are values < {lowerboundary} or > {upperboundary}'.format(lowerboundary=Lower_fence, upperboundary=Upper_fence))\n"
      ],
      "execution_count": 15,
      "outputs": [
        {
          "output_type": "stream",
          "text": [
            "Age outliers are values < -13.88037434994331 or > 73.27860964406095\n",
            "Fare outliers are values < -61.358399999999996 or > 100.2688\n"
          ],
          "name": "stdout"
        }
      ]
    },
    {
      "cell_type": "markdown",
      "metadata": {
        "id": "xE6eaLnw6r92",
        "colab_type": "text"
      },
      "source": [
        "We  should remove from the dataset Ages > 73 or Fares > 100.\n",
        "\n",
        "\n",
        "\n",
        "#### Outlies in discrete variables\n",
        "\n",
        "percentage of passengers for each  of the values that can take the discrete variables in the titanic dataset.  outliers, those values that are present in less than 1% of the passengers.  "
      ]
    },
    {
      "cell_type": "code",
      "metadata": {
        "id": "t2YJ4esL6r93",
        "colab_type": "code",
        "colab": {
          "base_uri": "https://localhost:8080/",
          "height": 403
        },
        "outputId": "c933e805-7975-46a0-eb5c-ac211530f7af"
      },
      "source": [
        "# outlies in discrete variables\n",
        "for var in ['Pclass',  'SibSp', 'Parch']:\n",
        "    print(data[var].value_counts() / np.float(len(data)))\n",
        "    print()"
      ],
      "execution_count": 16,
      "outputs": [
        {
          "output_type": "stream",
          "text": [
            "3    0.551066\n",
            "1    0.242424\n",
            "2    0.206510\n",
            "Name: Pclass, dtype: float64\n",
            "\n",
            "0    0.682379\n",
            "1    0.234568\n",
            "2    0.031425\n",
            "4    0.020202\n",
            "3    0.017957\n",
            "8    0.007856\n",
            "5    0.005612\n",
            "Name: SibSp, dtype: float64\n",
            "\n",
            "0    0.760943\n",
            "1    0.132435\n",
            "2    0.089787\n",
            "5    0.005612\n",
            "3    0.005612\n",
            "4    0.004489\n",
            "6    0.001122\n",
            "Name: Parch, dtype: float64\n",
            "\n"
          ],
          "name": "stdout"
        }
      ]
    },
    {
      "cell_type": "markdown",
      "metadata": {
        "id": "QmIGD-De6r96",
        "colab_type": "text"
      },
      "source": [
        "**Pclass** does not contain outliers, as all its numbers are present in at least 20% of the passengers.\n",
        "\n",
        "**SibSp**\n",
        "This variable indicates the number of of siblings / spouses aboard the Titanic. Values bigger than 4, are rare.  cap this variable at 4 (top coding).\n",
        "\n",
        "**Parch** \n",
        "This variable indicates the number of parents / children aboard the Titanic. We can see that values > 2 are rare (present in less than 1% of passengers). Thus I will cap this variable at 2 (top-coding).\n",
        "\n",
        "\n",
        "#### Number of labels: cardinality"
      ]
    },
    {
      "cell_type": "code",
      "metadata": {
        "id": "aLj84l6v6r98",
        "colab_type": "code",
        "colab": {
          "base_uri": "https://localhost:8080/",
          "height": 101
        },
        "outputId": "14fe4e22-8879-4b8d-f60e-8c9a1c84f5ef"
      },
      "source": [
        "for var in categorical:\n",
        "    print(var, ' contains ', len(data[var].unique()), ' labels')"
      ],
      "execution_count": 17,
      "outputs": [
        {
          "output_type": "stream",
          "text": [
            "Name  contains  891  labels\n",
            "Sex  contains  2  labels\n",
            "Ticket  contains  681  labels\n",
            "Cabin  contains  148  labels\n",
            "Embarked  contains  4  labels\n"
          ],
          "name": "stdout"
        }
      ]
    },
    {
      "cell_type": "markdown",
      "metadata": {
        "id": "qFIm8zWf6r-B",
        "colab_type": "text"
      },
      "source": [
        "The variables Name, Ticket and Cabin are highly cardinal, i.e., they contain a lot of labels. In addition, those variables are not usable as such, and they require some manual preprocessing. I will do that before proceeding with the data exploration"
      ]
    },
    {
      "cell_type": "markdown",
      "metadata": {
        "id": "g3GY9PxR6r-D",
        "colab_type": "text"
      },
      "source": [
        "### Pre-processing of mixed type of variables \n",
        "\n",
        "The variables Cabin and Ticket contain both numbers and letters. Let's create 2 variables for each extracting the numerical and categorical part."
      ]
    },
    {
      "cell_type": "code",
      "metadata": {
        "scrolled": true,
        "id": "HqIpqlpx6r-E",
        "colab_type": "code",
        "colab": {
          "base_uri": "https://localhost:8080/",
          "height": 195
        },
        "outputId": "8fdaf4ab-d252-4ab0-ca97-7ee0b6d75afb"
      },
      "source": [
        "# Cabin\n",
        "data['Cabin_numerical'] = data.Cabin.str.extract('(\\d+)') # extracts number from string\n",
        "data['Cabin_numerical'] = data['Cabin_numerical'].astype('float') # parses the above variable to float type\n",
        "\n",
        "data['Cabin_categorical'] = data['Cabin'].str[0] # captures first letter of string (the letter of the cabin)\n",
        "\n",
        "# same for submission data\n",
        "submission['Cabin_numerical'] = submission.Cabin.str.extract('(\\d+)')\n",
        "submission['Cabin_numerical'] = submission['Cabin_numerical'].astype('float')\n",
        "\n",
        "submission['Cabin_categorical'] = submission['Cabin'].str[0]\n",
        "\n",
        "data[['Cabin', 'Cabin_numerical', 'Cabin_categorical']].head()"
      ],
      "execution_count": 18,
      "outputs": [
        {
          "output_type": "execute_result",
          "data": {
            "text/html": [
              "<div>\n",
              "<style scoped>\n",
              "    .dataframe tbody tr th:only-of-type {\n",
              "        vertical-align: middle;\n",
              "    }\n",
              "\n",
              "    .dataframe tbody tr th {\n",
              "        vertical-align: top;\n",
              "    }\n",
              "\n",
              "    .dataframe thead th {\n",
              "        text-align: right;\n",
              "    }\n",
              "</style>\n",
              "<table border=\"1\" class=\"dataframe\">\n",
              "  <thead>\n",
              "    <tr style=\"text-align: right;\">\n",
              "      <th></th>\n",
              "      <th>Cabin</th>\n",
              "      <th>Cabin_numerical</th>\n",
              "      <th>Cabin_categorical</th>\n",
              "    </tr>\n",
              "  </thead>\n",
              "  <tbody>\n",
              "    <tr>\n",
              "      <th>0</th>\n",
              "      <td>NaN</td>\n",
              "      <td>NaN</td>\n",
              "      <td>NaN</td>\n",
              "    </tr>\n",
              "    <tr>\n",
              "      <th>1</th>\n",
              "      <td>C85</td>\n",
              "      <td>85.0</td>\n",
              "      <td>C</td>\n",
              "    </tr>\n",
              "    <tr>\n",
              "      <th>2</th>\n",
              "      <td>NaN</td>\n",
              "      <td>NaN</td>\n",
              "      <td>NaN</td>\n",
              "    </tr>\n",
              "    <tr>\n",
              "      <th>3</th>\n",
              "      <td>C123</td>\n",
              "      <td>123.0</td>\n",
              "      <td>C</td>\n",
              "    </tr>\n",
              "    <tr>\n",
              "      <th>4</th>\n",
              "      <td>NaN</td>\n",
              "      <td>NaN</td>\n",
              "      <td>NaN</td>\n",
              "    </tr>\n",
              "  </tbody>\n",
              "</table>\n",
              "</div>"
            ],
            "text/plain": [
              "  Cabin  Cabin_numerical Cabin_categorical\n",
              "0   NaN              NaN               NaN\n",
              "1   C85             85.0                 C\n",
              "2   NaN              NaN               NaN\n",
              "3  C123            123.0                 C\n",
              "4   NaN              NaN               NaN"
            ]
          },
          "metadata": {
            "tags": []
          },
          "execution_count": 18
        }
      ]
    },
    {
      "cell_type": "code",
      "metadata": {
        "id": "DrRoLmqo6r-L",
        "colab_type": "code",
        "colab": {}
      },
      "source": [
        "# drop the original variable\n",
        "data.drop(labels='Cabin', inplace=True, axis=1)\n",
        "submission.drop(labels='Cabin', inplace=True, axis=1)"
      ],
      "execution_count": 0,
      "outputs": []
    },
    {
      "cell_type": "code",
      "metadata": {
        "id": "kFOerpm86r-Q",
        "colab_type": "code",
        "colab": {
          "base_uri": "https://localhost:8080/",
          "height": 195
        },
        "outputId": "e2ee7bab-7c8a-412a-d6c7-ace7ac568e90"
      },
      "source": [
        "#  Ticket\n",
        "# extract the last bit of ticket as number\n",
        "data['Ticket_numerical'] = data.Ticket.apply(lambda s: s.split()[-1])\n",
        "data['Ticket_numerical'] = np.where(data.Ticket_numerical.str.isdigit(), data.Ticket_numerical, np.nan)\n",
        "data['Ticket_numerical'] = data['Ticket_numerical'].astype('float')\n",
        "\n",
        "# extract the first part of ticket as category\n",
        "data['Ticket_categorical'] = data.Ticket.apply(lambda s: s.split()[0])\n",
        "data['Ticket_categorical'] = np.where(data.Ticket_categorical.str.isdigit(), np.nan, data.Ticket_categorical)\n",
        "\n",
        "# submission\n",
        "submission['Ticket_numerical'] = submission.Ticket.apply(lambda s: s.split()[-1])\n",
        "submission['Ticket_numerical'] = np.where(submission.Ticket_numerical.str.isdigit(), submission.Ticket_numerical, np.nan)\n",
        "submission['Ticket_numerical'] = submission['Ticket_numerical'].astype('float')\n",
        "\n",
        "# extract the first part of ticket as category\n",
        "submission['Ticket_categorical'] = submission.Ticket.apply(lambda s: s.split()[0])\n",
        "submission['Ticket_categorical'] = np.where(submission.Ticket_categorical.str.isdigit(), np.nan, submission.Ticket_categorical)\n",
        "\n",
        "data[['Ticket', 'Ticket_numerical', 'Ticket_categorical']].head()"
      ],
      "execution_count": 20,
      "outputs": [
        {
          "output_type": "execute_result",
          "data": {
            "text/html": [
              "<div>\n",
              "<style scoped>\n",
              "    .dataframe tbody tr th:only-of-type {\n",
              "        vertical-align: middle;\n",
              "    }\n",
              "\n",
              "    .dataframe tbody tr th {\n",
              "        vertical-align: top;\n",
              "    }\n",
              "\n",
              "    .dataframe thead th {\n",
              "        text-align: right;\n",
              "    }\n",
              "</style>\n",
              "<table border=\"1\" class=\"dataframe\">\n",
              "  <thead>\n",
              "    <tr style=\"text-align: right;\">\n",
              "      <th></th>\n",
              "      <th>Ticket</th>\n",
              "      <th>Ticket_numerical</th>\n",
              "      <th>Ticket_categorical</th>\n",
              "    </tr>\n",
              "  </thead>\n",
              "  <tbody>\n",
              "    <tr>\n",
              "      <th>0</th>\n",
              "      <td>A/5 21171</td>\n",
              "      <td>21171.0</td>\n",
              "      <td>A/5</td>\n",
              "    </tr>\n",
              "    <tr>\n",
              "      <th>1</th>\n",
              "      <td>PC 17599</td>\n",
              "      <td>17599.0</td>\n",
              "      <td>PC</td>\n",
              "    </tr>\n",
              "    <tr>\n",
              "      <th>2</th>\n",
              "      <td>STON/O2. 3101282</td>\n",
              "      <td>3101282.0</td>\n",
              "      <td>STON/O2.</td>\n",
              "    </tr>\n",
              "    <tr>\n",
              "      <th>3</th>\n",
              "      <td>113803</td>\n",
              "      <td>113803.0</td>\n",
              "      <td>NaN</td>\n",
              "    </tr>\n",
              "    <tr>\n",
              "      <th>4</th>\n",
              "      <td>373450</td>\n",
              "      <td>373450.0</td>\n",
              "      <td>NaN</td>\n",
              "    </tr>\n",
              "  </tbody>\n",
              "</table>\n",
              "</div>"
            ],
            "text/plain": [
              "             Ticket  Ticket_numerical Ticket_categorical\n",
              "0         A/5 21171           21171.0                A/5\n",
              "1          PC 17599           17599.0                 PC\n",
              "2  STON/O2. 3101282         3101282.0           STON/O2.\n",
              "3            113803          113803.0                NaN\n",
              "4            373450          373450.0                NaN"
            ]
          },
          "metadata": {
            "tags": []
          },
          "execution_count": 20
        }
      ]
    },
    {
      "cell_type": "code",
      "metadata": {
        "id": "wuibYGgP6r-T",
        "colab_type": "code",
        "colab": {
          "base_uri": "https://localhost:8080/",
          "height": 134
        },
        "outputId": "9a7d3027-d199-48fe-f7ab-304ab8eb5500"
      },
      "source": [
        "# let's explore the ticket categorical part a bit further\n",
        "data.Ticket_categorical.unique()"
      ],
      "execution_count": 21,
      "outputs": [
        {
          "output_type": "execute_result",
          "data": {
            "text/plain": [
              "array(['A/5', 'PC', 'STON/O2.', nan, 'PP', 'A/5.', 'C.A.', 'A./5.',\n",
              "       'SC/Paris', 'S.C./A.4.', 'A/4.', 'CA', 'S.P.', 'S.O.C.', 'SO/C',\n",
              "       'W./C.', 'SOTON/OQ', 'W.E.P.', 'STON/O', 'A4.', 'C', 'SOTON/O.Q.',\n",
              "       'SC/PARIS', 'S.O.P.', 'A.5.', 'Fa', 'CA.', 'LINE', 'F.C.C.', 'W/C',\n",
              "       'SW/PP', 'SCO/W', 'P/PP', 'SC', 'SC/AH', 'A/S', 'A/4', 'WE/P',\n",
              "       'S.W./PP', 'S.O./P.P.', 'F.C.', 'SOTON/O2', 'S.C./PARIS',\n",
              "       'C.A./SOTON'], dtype=object)"
            ]
          },
          "metadata": {
            "tags": []
          },
          "execution_count": 21
        }
      ]
    },
    {
      "cell_type": "code",
      "metadata": {
        "scrolled": true,
        "id": "LudxYQuX6r-Z",
        "colab_type": "code",
        "colab": {
          "base_uri": "https://localhost:8080/",
          "height": 1882
        },
        "outputId": "1226fc65-fd70-4ac2-8677-7c75ecb179d1"
      },
      "source": [
        "# it contains several labels, some of them seem very similar apart from the punctuation\n",
        "# I will try to reduce this number of labels a bit further\n",
        "\n",
        "# remove non letter characters from string\n",
        "text = data.Ticket_categorical.apply(lambda x: re.sub(\"[^a-zA-Z]\", '', str(x)))\n",
        "\n",
        "# to visualise the output and compare with input\n",
        "pd.concat([text, data.Ticket_categorical], axis=1)"
      ],
      "execution_count": 22,
      "outputs": [
        {
          "output_type": "execute_result",
          "data": {
            "text/html": [
              "<div>\n",
              "<style scoped>\n",
              "    .dataframe tbody tr th:only-of-type {\n",
              "        vertical-align: middle;\n",
              "    }\n",
              "\n",
              "    .dataframe tbody tr th {\n",
              "        vertical-align: top;\n",
              "    }\n",
              "\n",
              "    .dataframe thead th {\n",
              "        text-align: right;\n",
              "    }\n",
              "</style>\n",
              "<table border=\"1\" class=\"dataframe\">\n",
              "  <thead>\n",
              "    <tr style=\"text-align: right;\">\n",
              "      <th></th>\n",
              "      <th>Ticket_categorical</th>\n",
              "      <th>Ticket_categorical</th>\n",
              "    </tr>\n",
              "  </thead>\n",
              "  <tbody>\n",
              "    <tr>\n",
              "      <th>0</th>\n",
              "      <td>A</td>\n",
              "      <td>A/5</td>\n",
              "    </tr>\n",
              "    <tr>\n",
              "      <th>1</th>\n",
              "      <td>PC</td>\n",
              "      <td>PC</td>\n",
              "    </tr>\n",
              "    <tr>\n",
              "      <th>2</th>\n",
              "      <td>STONO</td>\n",
              "      <td>STON/O2.</td>\n",
              "    </tr>\n",
              "    <tr>\n",
              "      <th>3</th>\n",
              "      <td>nan</td>\n",
              "      <td>NaN</td>\n",
              "    </tr>\n",
              "    <tr>\n",
              "      <th>4</th>\n",
              "      <td>nan</td>\n",
              "      <td>NaN</td>\n",
              "    </tr>\n",
              "    <tr>\n",
              "      <th>5</th>\n",
              "      <td>nan</td>\n",
              "      <td>NaN</td>\n",
              "    </tr>\n",
              "    <tr>\n",
              "      <th>6</th>\n",
              "      <td>nan</td>\n",
              "      <td>NaN</td>\n",
              "    </tr>\n",
              "    <tr>\n",
              "      <th>7</th>\n",
              "      <td>nan</td>\n",
              "      <td>NaN</td>\n",
              "    </tr>\n",
              "    <tr>\n",
              "      <th>8</th>\n",
              "      <td>nan</td>\n",
              "      <td>NaN</td>\n",
              "    </tr>\n",
              "    <tr>\n",
              "      <th>9</th>\n",
              "      <td>nan</td>\n",
              "      <td>NaN</td>\n",
              "    </tr>\n",
              "    <tr>\n",
              "      <th>10</th>\n",
              "      <td>PP</td>\n",
              "      <td>PP</td>\n",
              "    </tr>\n",
              "    <tr>\n",
              "      <th>11</th>\n",
              "      <td>nan</td>\n",
              "      <td>NaN</td>\n",
              "    </tr>\n",
              "    <tr>\n",
              "      <th>12</th>\n",
              "      <td>A</td>\n",
              "      <td>A/5.</td>\n",
              "    </tr>\n",
              "    <tr>\n",
              "      <th>13</th>\n",
              "      <td>nan</td>\n",
              "      <td>NaN</td>\n",
              "    </tr>\n",
              "    <tr>\n",
              "      <th>14</th>\n",
              "      <td>nan</td>\n",
              "      <td>NaN</td>\n",
              "    </tr>\n",
              "    <tr>\n",
              "      <th>15</th>\n",
              "      <td>nan</td>\n",
              "      <td>NaN</td>\n",
              "    </tr>\n",
              "    <tr>\n",
              "      <th>16</th>\n",
              "      <td>nan</td>\n",
              "      <td>NaN</td>\n",
              "    </tr>\n",
              "    <tr>\n",
              "      <th>17</th>\n",
              "      <td>nan</td>\n",
              "      <td>NaN</td>\n",
              "    </tr>\n",
              "    <tr>\n",
              "      <th>18</th>\n",
              "      <td>nan</td>\n",
              "      <td>NaN</td>\n",
              "    </tr>\n",
              "    <tr>\n",
              "      <th>19</th>\n",
              "      <td>nan</td>\n",
              "      <td>NaN</td>\n",
              "    </tr>\n",
              "    <tr>\n",
              "      <th>20</th>\n",
              "      <td>nan</td>\n",
              "      <td>NaN</td>\n",
              "    </tr>\n",
              "    <tr>\n",
              "      <th>21</th>\n",
              "      <td>nan</td>\n",
              "      <td>NaN</td>\n",
              "    </tr>\n",
              "    <tr>\n",
              "      <th>22</th>\n",
              "      <td>nan</td>\n",
              "      <td>NaN</td>\n",
              "    </tr>\n",
              "    <tr>\n",
              "      <th>23</th>\n",
              "      <td>nan</td>\n",
              "      <td>NaN</td>\n",
              "    </tr>\n",
              "    <tr>\n",
              "      <th>24</th>\n",
              "      <td>nan</td>\n",
              "      <td>NaN</td>\n",
              "    </tr>\n",
              "    <tr>\n",
              "      <th>25</th>\n",
              "      <td>nan</td>\n",
              "      <td>NaN</td>\n",
              "    </tr>\n",
              "    <tr>\n",
              "      <th>26</th>\n",
              "      <td>nan</td>\n",
              "      <td>NaN</td>\n",
              "    </tr>\n",
              "    <tr>\n",
              "      <th>27</th>\n",
              "      <td>nan</td>\n",
              "      <td>NaN</td>\n",
              "    </tr>\n",
              "    <tr>\n",
              "      <th>28</th>\n",
              "      <td>nan</td>\n",
              "      <td>NaN</td>\n",
              "    </tr>\n",
              "    <tr>\n",
              "      <th>29</th>\n",
              "      <td>nan</td>\n",
              "      <td>NaN</td>\n",
              "    </tr>\n",
              "    <tr>\n",
              "      <th>...</th>\n",
              "      <td>...</td>\n",
              "      <td>...</td>\n",
              "    </tr>\n",
              "    <tr>\n",
              "      <th>861</th>\n",
              "      <td>nan</td>\n",
              "      <td>NaN</td>\n",
              "    </tr>\n",
              "    <tr>\n",
              "      <th>862</th>\n",
              "      <td>nan</td>\n",
              "      <td>NaN</td>\n",
              "    </tr>\n",
              "    <tr>\n",
              "      <th>863</th>\n",
              "      <td>CA</td>\n",
              "      <td>CA.</td>\n",
              "    </tr>\n",
              "    <tr>\n",
              "      <th>864</th>\n",
              "      <td>nan</td>\n",
              "      <td>NaN</td>\n",
              "    </tr>\n",
              "    <tr>\n",
              "      <th>865</th>\n",
              "      <td>nan</td>\n",
              "      <td>NaN</td>\n",
              "    </tr>\n",
              "    <tr>\n",
              "      <th>866</th>\n",
              "      <td>SCPARIS</td>\n",
              "      <td>SC/PARIS</td>\n",
              "    </tr>\n",
              "    <tr>\n",
              "      <th>867</th>\n",
              "      <td>PC</td>\n",
              "      <td>PC</td>\n",
              "    </tr>\n",
              "    <tr>\n",
              "      <th>868</th>\n",
              "      <td>nan</td>\n",
              "      <td>NaN</td>\n",
              "    </tr>\n",
              "    <tr>\n",
              "      <th>869</th>\n",
              "      <td>nan</td>\n",
              "      <td>NaN</td>\n",
              "    </tr>\n",
              "    <tr>\n",
              "      <th>870</th>\n",
              "      <td>nan</td>\n",
              "      <td>NaN</td>\n",
              "    </tr>\n",
              "    <tr>\n",
              "      <th>871</th>\n",
              "      <td>nan</td>\n",
              "      <td>NaN</td>\n",
              "    </tr>\n",
              "    <tr>\n",
              "      <th>872</th>\n",
              "      <td>nan</td>\n",
              "      <td>NaN</td>\n",
              "    </tr>\n",
              "    <tr>\n",
              "      <th>873</th>\n",
              "      <td>nan</td>\n",
              "      <td>NaN</td>\n",
              "    </tr>\n",
              "    <tr>\n",
              "      <th>874</th>\n",
              "      <td>PPP</td>\n",
              "      <td>P/PP</td>\n",
              "    </tr>\n",
              "    <tr>\n",
              "      <th>875</th>\n",
              "      <td>nan</td>\n",
              "      <td>NaN</td>\n",
              "    </tr>\n",
              "    <tr>\n",
              "      <th>876</th>\n",
              "      <td>nan</td>\n",
              "      <td>NaN</td>\n",
              "    </tr>\n",
              "    <tr>\n",
              "      <th>877</th>\n",
              "      <td>nan</td>\n",
              "      <td>NaN</td>\n",
              "    </tr>\n",
              "    <tr>\n",
              "      <th>878</th>\n",
              "      <td>nan</td>\n",
              "      <td>NaN</td>\n",
              "    </tr>\n",
              "    <tr>\n",
              "      <th>879</th>\n",
              "      <td>nan</td>\n",
              "      <td>NaN</td>\n",
              "    </tr>\n",
              "    <tr>\n",
              "      <th>880</th>\n",
              "      <td>nan</td>\n",
              "      <td>NaN</td>\n",
              "    </tr>\n",
              "    <tr>\n",
              "      <th>881</th>\n",
              "      <td>nan</td>\n",
              "      <td>NaN</td>\n",
              "    </tr>\n",
              "    <tr>\n",
              "      <th>882</th>\n",
              "      <td>nan</td>\n",
              "      <td>NaN</td>\n",
              "    </tr>\n",
              "    <tr>\n",
              "      <th>883</th>\n",
              "      <td>CASOTON</td>\n",
              "      <td>C.A./SOTON</td>\n",
              "    </tr>\n",
              "    <tr>\n",
              "      <th>884</th>\n",
              "      <td>SOTONOQ</td>\n",
              "      <td>SOTON/OQ</td>\n",
              "    </tr>\n",
              "    <tr>\n",
              "      <th>885</th>\n",
              "      <td>nan</td>\n",
              "      <td>NaN</td>\n",
              "    </tr>\n",
              "    <tr>\n",
              "      <th>886</th>\n",
              "      <td>nan</td>\n",
              "      <td>NaN</td>\n",
              "    </tr>\n",
              "    <tr>\n",
              "      <th>887</th>\n",
              "      <td>nan</td>\n",
              "      <td>NaN</td>\n",
              "    </tr>\n",
              "    <tr>\n",
              "      <th>888</th>\n",
              "      <td>WC</td>\n",
              "      <td>W./C.</td>\n",
              "    </tr>\n",
              "    <tr>\n",
              "      <th>889</th>\n",
              "      <td>nan</td>\n",
              "      <td>NaN</td>\n",
              "    </tr>\n",
              "    <tr>\n",
              "      <th>890</th>\n",
              "      <td>nan</td>\n",
              "      <td>NaN</td>\n",
              "    </tr>\n",
              "  </tbody>\n",
              "</table>\n",
              "<p>891 rows × 2 columns</p>\n",
              "</div>"
            ],
            "text/plain": [
              "    Ticket_categorical Ticket_categorical\n",
              "0                    A                A/5\n",
              "1                   PC                 PC\n",
              "2                STONO           STON/O2.\n",
              "3                  nan                NaN\n",
              "4                  nan                NaN\n",
              "5                  nan                NaN\n",
              "6                  nan                NaN\n",
              "7                  nan                NaN\n",
              "8                  nan                NaN\n",
              "9                  nan                NaN\n",
              "10                  PP                 PP\n",
              "11                 nan                NaN\n",
              "12                   A               A/5.\n",
              "13                 nan                NaN\n",
              "14                 nan                NaN\n",
              "15                 nan                NaN\n",
              "16                 nan                NaN\n",
              "17                 nan                NaN\n",
              "18                 nan                NaN\n",
              "19                 nan                NaN\n",
              "20                 nan                NaN\n",
              "21                 nan                NaN\n",
              "22                 nan                NaN\n",
              "23                 nan                NaN\n",
              "24                 nan                NaN\n",
              "25                 nan                NaN\n",
              "26                 nan                NaN\n",
              "27                 nan                NaN\n",
              "28                 nan                NaN\n",
              "29                 nan                NaN\n",
              "..                 ...                ...\n",
              "861                nan                NaN\n",
              "862                nan                NaN\n",
              "863                 CA                CA.\n",
              "864                nan                NaN\n",
              "865                nan                NaN\n",
              "866            SCPARIS           SC/PARIS\n",
              "867                 PC                 PC\n",
              "868                nan                NaN\n",
              "869                nan                NaN\n",
              "870                nan                NaN\n",
              "871                nan                NaN\n",
              "872                nan                NaN\n",
              "873                nan                NaN\n",
              "874                PPP               P/PP\n",
              "875                nan                NaN\n",
              "876                nan                NaN\n",
              "877                nan                NaN\n",
              "878                nan                NaN\n",
              "879                nan                NaN\n",
              "880                nan                NaN\n",
              "881                nan                NaN\n",
              "882                nan                NaN\n",
              "883            CASOTON         C.A./SOTON\n",
              "884            SOTONOQ           SOTON/OQ\n",
              "885                nan                NaN\n",
              "886                nan                NaN\n",
              "887                nan                NaN\n",
              "888                 WC              W./C.\n",
              "889                nan                NaN\n",
              "890                nan                NaN\n",
              "\n",
              "[891 rows x 2 columns]"
            ]
          },
          "metadata": {
            "tags": []
          },
          "execution_count": 22
        }
      ]
    },
    {
      "cell_type": "code",
      "metadata": {
        "id": "AEu2fb9f6r-g",
        "colab_type": "code",
        "colab": {
          "base_uri": "https://localhost:8080/",
          "height": 84
        },
        "outputId": "9c64bc21-6441-4051-dd27-a4d6bbadea6c"
      },
      "source": [
        "# set to upper case: we reduce the number of labels quite a bit\n",
        "text = text.str.upper()\n",
        "text.unique()"
      ],
      "execution_count": 23,
      "outputs": [
        {
          "output_type": "execute_result",
          "data": {
            "text/plain": [
              "array(['A', 'PC', 'STONO', 'NAN', 'PP', 'CA', 'SCPARIS', 'SCA', 'SP',\n",
              "       'SOC', 'WC', 'SOTONOQ', 'WEP', 'C', 'SOP', 'FA', 'LINE', 'FCC',\n",
              "       'SWPP', 'SCOW', 'PPP', 'SC', 'SCAH', 'AS', 'SOPP', 'FC', 'SOTONO',\n",
              "       'CASOTON'], dtype=object)"
            ]
          },
          "metadata": {
            "tags": []
          },
          "execution_count": 23
        }
      ]
    },
    {
      "cell_type": "code",
      "metadata": {
        "id": "9domqdXd6r-l",
        "colab_type": "code",
        "colab": {}
      },
      "source": [
        "# process the variable in submission as well\n",
        "data['Ticket_categorical'] = text\n",
        "\n",
        "submission['Ticket_categorical'] = submission.Ticket_categorical.apply(lambda x: re.sub(\"[^a-zA-Z]\", '', str(x)))\n",
        "submission['Ticket_categorical'] = submission['Ticket_categorical'].str.upper()"
      ],
      "execution_count": 0,
      "outputs": []
    },
    {
      "cell_type": "code",
      "metadata": {
        "id": "GMbqdiNx6r-r",
        "colab_type": "code",
        "colab": {}
      },
      "source": [
        "# drop the original variable\n",
        "data.drop(labels='Ticket', inplace=True, axis=1)\n",
        "submission.drop(labels='Ticket', inplace=True, axis=1)"
      ],
      "execution_count": 0,
      "outputs": []
    },
    {
      "cell_type": "markdown",
      "metadata": {
        "id": "R-FvAxey6r-u",
        "colab_type": "text"
      },
      "source": [
        "###  preprocessing the Name variable\n",
        "\n",
        "The variable Name contains 891 different values, one for each of the passengers. "
      ]
    },
    {
      "cell_type": "code",
      "metadata": {
        "id": "SsPSfPU16r-u",
        "colab_type": "code",
        "colab": {
          "base_uri": "https://localhost:8080/",
          "height": 195
        },
        "outputId": "2d376e4f-eca9-4f64-8c2e-c8a7bf7268ef"
      },
      "source": [
        "def get_title(passenger):\n",
        "    # extracts the title from the name variable\n",
        "    line = passenger\n",
        "    if re.search('Mrs', line):\n",
        "        return 'Mrs'\n",
        "    elif re.search('Mr', line):\n",
        "        return 'Mr'\n",
        "    elif re.search('Miss', line):\n",
        "        return 'Miss'\n",
        "    elif re.search('Master', line):\n",
        "        return 'Master'\n",
        "    else:\n",
        "        return 'Other'\n",
        "    \n",
        "data['Title'] = data['Name'].apply(get_title)\n",
        "submission['Title'] = submission['Name'].apply(get_title)\n",
        "\n",
        "data[['Name', 'Title']].head()"
      ],
      "execution_count": 26,
      "outputs": [
        {
          "output_type": "execute_result",
          "data": {
            "text/html": [
              "<div>\n",
              "<style scoped>\n",
              "    .dataframe tbody tr th:only-of-type {\n",
              "        vertical-align: middle;\n",
              "    }\n",
              "\n",
              "    .dataframe tbody tr th {\n",
              "        vertical-align: top;\n",
              "    }\n",
              "\n",
              "    .dataframe thead th {\n",
              "        text-align: right;\n",
              "    }\n",
              "</style>\n",
              "<table border=\"1\" class=\"dataframe\">\n",
              "  <thead>\n",
              "    <tr style=\"text-align: right;\">\n",
              "      <th></th>\n",
              "      <th>Name</th>\n",
              "      <th>Title</th>\n",
              "    </tr>\n",
              "  </thead>\n",
              "  <tbody>\n",
              "    <tr>\n",
              "      <th>0</th>\n",
              "      <td>Braund, Mr. Owen Harris</td>\n",
              "      <td>Mr</td>\n",
              "    </tr>\n",
              "    <tr>\n",
              "      <th>1</th>\n",
              "      <td>Cumings, Mrs. John Bradley (Florence Briggs Th...</td>\n",
              "      <td>Mrs</td>\n",
              "    </tr>\n",
              "    <tr>\n",
              "      <th>2</th>\n",
              "      <td>Heikkinen, Miss. Laina</td>\n",
              "      <td>Miss</td>\n",
              "    </tr>\n",
              "    <tr>\n",
              "      <th>3</th>\n",
              "      <td>Futrelle, Mrs. Jacques Heath (Lily May Peel)</td>\n",
              "      <td>Mrs</td>\n",
              "    </tr>\n",
              "    <tr>\n",
              "      <th>4</th>\n",
              "      <td>Allen, Mr. William Henry</td>\n",
              "      <td>Mr</td>\n",
              "    </tr>\n",
              "  </tbody>\n",
              "</table>\n",
              "</div>"
            ],
            "text/plain": [
              "                                                Name Title\n",
              "0                            Braund, Mr. Owen Harris    Mr\n",
              "1  Cumings, Mrs. John Bradley (Florence Briggs Th...   Mrs\n",
              "2                             Heikkinen, Miss. Laina  Miss\n",
              "3       Futrelle, Mrs. Jacques Heath (Lily May Peel)   Mrs\n",
              "4                           Allen, Mr. William Henry    Mr"
            ]
          },
          "metadata": {
            "tags": []
          },
          "execution_count": 26
        }
      ]
    },
    {
      "cell_type": "code",
      "metadata": {
        "id": "wGo7PB2l6r-x",
        "colab_type": "code",
        "colab": {}
      },
      "source": [
        "# drop the original variable\n",
        "data.drop(labels='Name', inplace=True, axis=1)\n",
        "submission.drop(labels='Name', inplace=True, axis=1)"
      ],
      "execution_count": 0,
      "outputs": []
    },
    {
      "cell_type": "code",
      "metadata": {
        "id": "YBgBqCrd6r-1",
        "colab_type": "code",
        "colab": {
          "base_uri": "https://localhost:8080/",
          "height": 457
        },
        "outputId": "c503f017-130d-498e-b2c6-806e3d1cfce0"
      },
      "source": [
        "# create a variable indicating family size (including the passenger)\n",
        "# sums siblings and parents\n",
        "\n",
        "data['Family_size'] = data['SibSp']+data['Parch']+1\n",
        "submission['Family_size'] = submission['SibSp']+submission['Parch']+1\n",
        "\n",
        "print(data.Family_size.value_counts()/ np.float(len(data)))\n",
        "\n",
        "(data.Family_size.value_counts() / np.float(len(data))).plot.bar()"
      ],
      "execution_count": 28,
      "outputs": [
        {
          "output_type": "stream",
          "text": [
            "1     0.602694\n",
            "2     0.180696\n",
            "3     0.114478\n",
            "4     0.032548\n",
            "6     0.024691\n",
            "5     0.016835\n",
            "7     0.013468\n",
            "11    0.007856\n",
            "8     0.006734\n",
            "Name: Family_size, dtype: float64\n"
          ],
          "name": "stdout"
        },
        {
          "output_type": "execute_result",
          "data": {
            "text/plain": [
              "<matplotlib.axes._subplots.AxesSubplot at 0x7f616fb5a470>"
            ]
          },
          "metadata": {
            "tags": []
          },
          "execution_count": 28
        },
        {
          "output_type": "display_data",
          "data": {
            "image/png": "[encoded data removed]",
            "text/plain": [
              "<Figure size 432x288 with 1 Axes>"
            ]
          },
          "metadata": {
            "tags": []
          }
        }
      ]
    },
    {
      "cell_type": "markdown",
      "metadata": {
        "id": "fqFRYt6N6r_A",
        "colab_type": "text"
      },
      "source": [
        "The new variable Family size is discrete, because it is the sum of 2 discrete variables. It takes a finite number of values, and large families were rare on the Titanic. In fact, families larger than 7 people were rare, so  **cap family size at 7**."
      ]
    },
    {
      "cell_type": "code",
      "metadata": {
        "id": "fwMTQxHr6r_C",
        "colab_type": "code",
        "colab": {
          "base_uri": "https://localhost:8080/",
          "height": 195
        },
        "outputId": "da803b76-8a84-4af5-8968-2174324a604f"
      },
      "source": [
        "# variable indicating if passenger was a mother\n",
        "data['is_mother'] = np.where((data.Sex =='female')&(data.Parch>=1)&(data.Age>18),1,0)\n",
        "submission['is_mother'] = np.where((submission.Sex =='female')&(submission.Parch>=1)&(submission.Age>18),1,0)\n",
        "\n",
        "data[['Sex', 'Parch', 'Age', 'is_mother']].head()"
      ],
      "execution_count": 29,
      "outputs": [
        {
          "output_type": "execute_result",
          "data": {
            "text/html": [
              "<div>\n",
              "<style scoped>\n",
              "    .dataframe tbody tr th:only-of-type {\n",
              "        vertical-align: middle;\n",
              "    }\n",
              "\n",
              "    .dataframe tbody tr th {\n",
              "        vertical-align: top;\n",
              "    }\n",
              "\n",
              "    .dataframe thead th {\n",
              "        text-align: right;\n",
              "    }\n",
              "</style>\n",
              "<table border=\"1\" class=\"dataframe\">\n",
              "  <thead>\n",
              "    <tr style=\"text-align: right;\">\n",
              "      <th></th>\n",
              "      <th>Sex</th>\n",
              "      <th>Parch</th>\n",
              "      <th>Age</th>\n",
              "      <th>is_mother</th>\n",
              "    </tr>\n",
              "  </thead>\n",
              "  <tbody>\n",
              "    <tr>\n",
              "      <th>0</th>\n",
              "      <td>male</td>\n",
              "      <td>0</td>\n",
              "      <td>22.0</td>\n",
              "      <td>0</td>\n",
              "    </tr>\n",
              "    <tr>\n",
              "      <th>1</th>\n",
              "      <td>female</td>\n",
              "      <td>0</td>\n",
              "      <td>38.0</td>\n",
              "      <td>0</td>\n",
              "    </tr>\n",
              "    <tr>\n",
              "      <th>2</th>\n",
              "      <td>female</td>\n",
              "      <td>0</td>\n",
              "      <td>26.0</td>\n",
              "      <td>0</td>\n",
              "    </tr>\n",
              "    <tr>\n",
              "      <th>3</th>\n",
              "      <td>female</td>\n",
              "      <td>0</td>\n",
              "      <td>35.0</td>\n",
              "      <td>0</td>\n",
              "    </tr>\n",
              "    <tr>\n",
              "      <th>4</th>\n",
              "      <td>male</td>\n",
              "      <td>0</td>\n",
              "      <td>35.0</td>\n",
              "      <td>0</td>\n",
              "    </tr>\n",
              "  </tbody>\n",
              "</table>\n",
              "</div>"
            ],
            "text/plain": [
              "      Sex  Parch   Age  is_mother\n",
              "0    male      0  22.0          0\n",
              "1  female      0  38.0          0\n",
              "2  female      0  26.0          0\n",
              "3  female      0  35.0          0\n",
              "4    male      0  35.0          0"
            ]
          },
          "metadata": {
            "tags": []
          },
          "execution_count": 29
        }
      ]
    },
    {
      "cell_type": "code",
      "metadata": {
        "id": "F92Q05kb6r_L",
        "colab_type": "code",
        "colab": {
          "base_uri": "https://localhost:8080/",
          "height": 195
        },
        "outputId": "860914dd-c52b-408f-a397-45195f230409"
      },
      "source": [
        "data.loc[data.is_mother==1, ['Sex', 'Parch', 'Age', 'is_mother']].head()"
      ],
      "execution_count": 30,
      "outputs": [
        {
          "output_type": "execute_result",
          "data": {
            "text/html": [
              "<div>\n",
              "<style scoped>\n",
              "    .dataframe tbody tr th:only-of-type {\n",
              "        vertical-align: middle;\n",
              "    }\n",
              "\n",
              "    .dataframe tbody tr th {\n",
              "        vertical-align: top;\n",
              "    }\n",
              "\n",
              "    .dataframe thead th {\n",
              "        text-align: right;\n",
              "    }\n",
              "</style>\n",
              "<table border=\"1\" class=\"dataframe\">\n",
              "  <thead>\n",
              "    <tr style=\"text-align: right;\">\n",
              "      <th></th>\n",
              "      <th>Sex</th>\n",
              "      <th>Parch</th>\n",
              "      <th>Age</th>\n",
              "      <th>is_mother</th>\n",
              "    </tr>\n",
              "  </thead>\n",
              "  <tbody>\n",
              "    <tr>\n",
              "      <th>8</th>\n",
              "      <td>female</td>\n",
              "      <td>2</td>\n",
              "      <td>27.0</td>\n",
              "      <td>1</td>\n",
              "    </tr>\n",
              "    <tr>\n",
              "      <th>25</th>\n",
              "      <td>female</td>\n",
              "      <td>5</td>\n",
              "      <td>38.0</td>\n",
              "      <td>1</td>\n",
              "    </tr>\n",
              "    <tr>\n",
              "      <th>88</th>\n",
              "      <td>female</td>\n",
              "      <td>2</td>\n",
              "      <td>23.0</td>\n",
              "      <td>1</td>\n",
              "    </tr>\n",
              "    <tr>\n",
              "      <th>98</th>\n",
              "      <td>female</td>\n",
              "      <td>1</td>\n",
              "      <td>34.0</td>\n",
              "      <td>1</td>\n",
              "    </tr>\n",
              "    <tr>\n",
              "      <th>136</th>\n",
              "      <td>female</td>\n",
              "      <td>2</td>\n",
              "      <td>19.0</td>\n",
              "      <td>1</td>\n",
              "    </tr>\n",
              "  </tbody>\n",
              "</table>\n",
              "</div>"
            ],
            "text/plain": [
              "        Sex  Parch   Age  is_mother\n",
              "8    female      2  27.0          1\n",
              "25   female      5  38.0          1\n",
              "88   female      2  23.0          1\n",
              "98   female      1  34.0          1\n",
              "136  female      2  19.0          1"
            ]
          },
          "metadata": {
            "tags": []
          },
          "execution_count": 30
        }
      ]
    },
    {
      "cell_type": "code",
      "metadata": {
        "id": "78Qxo1Ty6r_Q",
        "colab_type": "code",
        "colab": {
          "base_uri": "https://localhost:8080/",
          "height": 34
        },
        "outputId": "c8bca3d8-b441-41d8-c3ad-5a200204db0b"
      },
      "source": [
        "print('there were {} mothers in the Titanic'.format(data.is_mother.sum()))"
      ],
      "execution_count": 31,
      "outputs": [
        {
          "output_type": "stream",
          "text": [
            "there were 64 mothers in the Titanic\n"
          ],
          "name": "stdout"
        }
      ]
    },
    {
      "cell_type": "code",
      "metadata": {
        "id": "TSzbHYvG6sAi",
        "colab_type": "code",
        "colab": {
          "base_uri": "https://localhost:8080/",
          "height": 806
        },
        "outputId": "66a1c50e-168b-4865-dd44-372ee8ddbcf5"
      },
      "source": [
        "# rare / unfrequent labels (less than 1% of passengers)\n",
        "for var in ['Cabin_categorical', 'Ticket_categorical', 'Title']:\n",
        "    print(data[var].value_counts() / np.float(len(data)))\n",
        "    print()"
      ],
      "execution_count": 38,
      "outputs": [
        {
          "output_type": "stream",
          "text": [
            "C    0.066218\n",
            "B    0.052750\n",
            "D    0.037037\n",
            "E    0.035915\n",
            "A    0.016835\n",
            "F    0.014590\n",
            "G    0.004489\n",
            "T    0.001122\n",
            "Name: Cabin_categorical, dtype: float64\n",
            "\n",
            "NAN        0.741863\n",
            "PC         0.067340\n",
            "CA         0.046016\n",
            "A          0.031425\n",
            "STONO      0.020202\n",
            "SOTONOQ    0.016835\n",
            "SCPARIS    0.012346\n",
            "WC         0.011223\n",
            "SOC        0.006734\n",
            "C          0.005612\n",
            "FCC        0.005612\n",
            "LINE       0.004489\n",
            "WEP        0.003367\n",
            "SCAH       0.003367\n",
            "SOPP       0.003367\n",
            "PP         0.003367\n",
            "SOTONO     0.002245\n",
            "SWPP       0.002245\n",
            "PPP        0.002245\n",
            "SC         0.001122\n",
            "CASOTON    0.001122\n",
            "SOP        0.001122\n",
            "SCOW       0.001122\n",
            "SP         0.001122\n",
            "FC         0.001122\n",
            "SCA        0.001122\n",
            "AS         0.001122\n",
            "FA         0.001122\n",
            "Name: Ticket_categorical, dtype: float64\n",
            "\n",
            "Mr        0.581369\n",
            "Miss      0.202020\n",
            "Mrs       0.144781\n",
            "Master    0.044893\n",
            "Other     0.026936\n",
            "Name: Title, dtype: float64\n",
            "\n"
          ],
          "name": "stdout"
        }
      ]
    },
    {
      "cell_type": "markdown",
      "metadata": {
        "id": "h_4vzu4P6sAm",
        "colab_type": "text"
      },
      "source": [
        "- Cabin contains the rare labels G and T: replace by most frequent category\n",
        "- Ticket contains a lot of unfrequent labels: replace by rare\n",
        "- Title does not contain rare labels\n",
        "\n",
        "Because the number of passengers in the rare cabins is so small, grouping them into a new category called rare, will be in itself rare, and may be prone to overfitting. This, in cabin, I will replace rare labels by the most frequent category.\n",
        "\n",
        "In ticket_categorical, on the other hand, the number of unfrequent labels is high, therefore grouping them into a new label makes sense. "
      ]
    },
    {
      "cell_type": "markdown",
      "metadata": {
        "id": "0V9njNHP6sAn",
        "colab_type": "text"
      },
      "source": [
        "### Separate train and test set"
      ]
    },
    {
      "cell_type": "code",
      "metadata": {
        "id": "yoh_Gdrh6sAo",
        "colab_type": "code",
        "colab": {
          "base_uri": "https://localhost:8080/",
          "height": 34
        },
        "outputId": "7d7de921-0d5b-4c24-81c5-a4b8a3e47308"
      },
      "source": [
        "# Let's separate into train and test set\n",
        "\n",
        "X_train, X_test, y_train, y_test = train_test_split(data, data.Survived, test_size=0.2,\n",
        "                                                    random_state=0)\n",
        "X_train.shape, X_test.shape"
      ],
      "execution_count": 39,
      "outputs": [
        {
          "output_type": "execute_result",
          "data": {
            "text/plain": [
              "((712, 16), (179, 16))"
            ]
          },
          "metadata": {
            "tags": []
          },
          "execution_count": 39
        }
      ]
    },
    {
      "cell_type": "code",
      "metadata": {
        "id": "I3Yz6rPs6sAu",
        "colab_type": "code",
        "colab": {}
      },
      "source": [
        "# let's group again the variables into categorical or numerical\n",
        "# now considering the newly created variables\n",
        "\n",
        "def find_categorical_and_numerical_variables(dataframe):\n",
        "    cat_vars = [col for col in data.columns if data[col].dtypes == 'O']\n",
        "    num_vars  = [col for col in data.columns if data[col].dtypes != 'O']\n",
        "    return cat_vars, num_vars\n",
        "                 \n",
        "categorical, numerical = find_categorical_and_numerical_variables(data)       "
      ],
      "execution_count": 0,
      "outputs": []
    },
    {
      "cell_type": "code",
      "metadata": {
        "id": "hZ7tHrd86sAx",
        "colab_type": "code",
        "colab": {
          "base_uri": "https://localhost:8080/",
          "height": 34
        },
        "outputId": "63aded21-4ba5-4c4d-e32d-0b99f56cd359"
      },
      "source": [
        "categorical"
      ],
      "execution_count": 41,
      "outputs": [
        {
          "output_type": "execute_result",
          "data": {
            "text/plain": [
              "['Sex', 'Embarked', 'Cabin_categorical', 'Ticket_categorical', 'Title']"
            ]
          },
          "metadata": {
            "tags": []
          },
          "execution_count": 41
        }
      ]
    },
    {
      "cell_type": "code",
      "metadata": {
        "id": "wpJw9UnE6sA0",
        "colab_type": "code",
        "colab": {
          "base_uri": "https://localhost:8080/",
          "height": 168
        },
        "outputId": "ccc3a0e8-80b3-47f7-b51d-cda7fddeafb4"
      },
      "source": [
        "numerical = [var for var in numerical if var not in ['Survived','PassengerId']]\n",
        "numerical"
      ],
      "execution_count": 42,
      "outputs": [
        {
          "output_type": "execute_result",
          "data": {
            "text/plain": [
              "['Pclass',\n",
              " 'Age',\n",
              " 'SibSp',\n",
              " 'Parch',\n",
              " 'Fare',\n",
              " 'Cabin_numerical',\n",
              " 'Ticket_numerical',\n",
              " 'Family_size',\n",
              " 'is_mother']"
            ]
          },
          "metadata": {
            "tags": []
          },
          "execution_count": 42
        }
      ]
    },
    {
      "cell_type": "markdown",
      "metadata": {
        "id": "Tq33lin-6sA9",
        "colab_type": "text"
      },
      "source": [
        "### Engineering missing values in numerical variables (section 5)"
      ]
    },
    {
      "cell_type": "code",
      "metadata": {
        "id": "EjVB4XE56sA-",
        "colab_type": "code",
        "colab": {
          "base_uri": "https://localhost:8080/",
          "height": 67
        },
        "outputId": "b393f71f-befc-4739-e0c0-fb075394cf0c"
      },
      "source": [
        "# print variables with missing data\n",
        "for col in numerical:\n",
        "    if X_train[col].isnull().mean()>0:\n",
        "        print(col, X_train[col].isnull().mean())"
      ],
      "execution_count": 43,
      "outputs": [
        {
          "output_type": "stream",
          "text": [
            "Age 0.19803370786516855\n",
            "Cabin_numerical 0.776685393258427\n",
            "Ticket_numerical 0.0056179775280898875\n"
          ],
          "name": "stdout"
        }
      ]
    },
    {
      "cell_type": "markdown",
      "metadata": {
        "id": "xPxrOCKJ6sBC",
        "colab_type": "text"
      },
      "source": [
        "- Age and ticket contains < 50% NA: create additional variable with NA + random sample imputation\n",
        "- Cabin_numerical contains > 50% NA: impute NA by value far in the distribution"
      ]
    },
    {
      "cell_type": "code",
      "metadata": {
        "id": "o-gACW4M6sBD",
        "colab_type": "code",
        "colab": {}
      },
      "source": [
        "def impute_na(X_train, df, variable):\n",
        "    # make temporary df copy\n",
        "    temp = df.copy()\n",
        "    \n",
        "    # extract random from train set to fill the na\n",
        "    random_sample = X_train[variable].dropna().sample(temp[variable].isnull().sum(), random_state=0)\n",
        "    \n",
        "    # pandas needs to have the same index in order to merge datasets\n",
        "    random_sample.index = temp[temp[variable].isnull()].index\n",
        "    temp.loc[temp[variable].isnull(), variable] = random_sample\n",
        "    return temp[variable]"
      ],
      "execution_count": 0,
      "outputs": []
    },
    {
      "cell_type": "code",
      "metadata": {
        "id": "sFGd4W0D6sBF",
        "colab_type": "code",
        "colab": {}
      },
      "source": [
        "# Age and ticket\n",
        "# add variable indicating missingness\n",
        "for df in [X_train, X_test, submission]:\n",
        "    for var in ['Age', 'Ticket_numerical']:\n",
        "        df[var+'_NA'] = np.where(df[var].isnull(), 1, 0)\n",
        "    \n",
        "# replace by random sampling\n",
        "for df in [X_train, X_test, submission]:\n",
        "    for var in ['Age', 'Ticket_numerical']:\n",
        "        df[var] = impute_na(X_train, df, var)\n",
        "    \n",
        "\n",
        "# Cabin numerical\n",
        "extreme = X_train.Cabin_numerical.mean() + X_train.Cabin_numerical.std()*3\n",
        "for df in [X_train, X_test, submission]:\n",
        "    df.Cabin_numerical.fillna(extreme, inplace=True)"
      ],
      "execution_count": 0,
      "outputs": []
    },
    {
      "cell_type": "markdown",
      "metadata": {
        "id": "Uie0s6cs6sBG",
        "colab_type": "text"
      },
      "source": [
        "### Engineering Missing Data in categorical variables"
      ]
    },
    {
      "cell_type": "code",
      "metadata": {
        "id": "UmjGgaFV6sBH",
        "colab_type": "code",
        "colab": {
          "base_uri": "https://localhost:8080/",
          "height": 50
        },
        "outputId": "3e321597-9128-4a5f-a7e0-36c4b529938e"
      },
      "source": [
        "# print variables with missing data\n",
        "for col in categorical:\n",
        "    if X_train[col].isnull().mean()>0:\n",
        "        print(col, X_train[col].isnull().mean())"
      ],
      "execution_count": 46,
      "outputs": [
        {
          "output_type": "stream",
          "text": [
            "Embarked 0.0028089887640449437\n",
            "Cabin_categorical 0.7710674157303371\n"
          ],
          "name": "stdout"
        }
      ]
    },
    {
      "cell_type": "markdown",
      "metadata": {
        "id": "wYhUZJzt6sBJ",
        "colab_type": "text"
      },
      "source": [
        "- Embarked NA imputed by most frequent category, because NA is low\n",
        "- Cabin_categoriacl imputed by 'Missing', because NA is high"
      ]
    },
    {
      "cell_type": "code",
      "metadata": {
        "id": "VQvZNg3D6sBJ",
        "colab_type": "code",
        "colab": {}
      },
      "source": [
        "# add label indicating 'Missing' to Cabin categorical\n",
        "# or replace by most frequent label in Embarked\n",
        "\n",
        "for df in [X_train, X_test, submission]:\n",
        "    df['Embarked'].fillna(X_train['Embarked'].mode()[0], inplace=True)\n",
        "    df['Cabin_categorical'].fillna('Missing', inplace=True)"
      ],
      "execution_count": 0,
      "outputs": []
    },
    {
      "cell_type": "code",
      "metadata": {
        "id": "nl3mutcF6sBL",
        "colab_type": "code",
        "colab": {
          "base_uri": "https://localhost:8080/",
          "height": 336
        },
        "outputId": "49e5c34b-41a4-487c-c86e-886b2a187731"
      },
      "source": [
        "# check absence of null values\n",
        "X_train.isnull().sum()"
      ],
      "execution_count": 48,
      "outputs": [
        {
          "output_type": "execute_result",
          "data": {
            "text/plain": [
              "PassengerId            0\n",
              "Survived               0\n",
              "Pclass                 0\n",
              "Sex                    0\n",
              "Age                    0\n",
              "SibSp                  0\n",
              "Parch                  0\n",
              "Fare                   0\n",
              "Embarked               0\n",
              "Cabin_numerical        0\n",
              "Cabin_categorical      0\n",
              "Ticket_numerical       0\n",
              "Ticket_categorical     0\n",
              "Title                  0\n",
              "Family_size            0\n",
              "is_mother              0\n",
              "Age_NA                 0\n",
              "Ticket_numerical_NA    0\n",
              "dtype: int64"
            ]
          },
          "metadata": {
            "tags": []
          },
          "execution_count": 48
        }
      ]
    },
    {
      "cell_type": "code",
      "metadata": {
        "id": "vB2nkJfa6sBO",
        "colab_type": "code",
        "colab": {
          "base_uri": "https://localhost:8080/",
          "height": 336
        },
        "outputId": "fcbe601d-2a38-4f76-ea3a-650acd015aa2"
      },
      "source": [
        "X_test.isnull().sum()"
      ],
      "execution_count": 49,
      "outputs": [
        {
          "output_type": "execute_result",
          "data": {
            "text/plain": [
              "PassengerId            0\n",
              "Survived               0\n",
              "Pclass                 0\n",
              "Sex                    0\n",
              "Age                    0\n",
              "SibSp                  0\n",
              "Parch                  0\n",
              "Fare                   0\n",
              "Embarked               0\n",
              "Cabin_numerical        0\n",
              "Cabin_categorical      0\n",
              "Ticket_numerical       0\n",
              "Ticket_categorical     0\n",
              "Title                  0\n",
              "Family_size            0\n",
              "is_mother              0\n",
              "Age_NA                 0\n",
              "Ticket_numerical_NA    0\n",
              "dtype: int64"
            ]
          },
          "metadata": {
            "tags": []
          },
          "execution_count": 49
        }
      ]
    },
    {
      "cell_type": "code",
      "metadata": {
        "scrolled": true,
        "id": "-n2DtJNj6sBY",
        "colab_type": "code",
        "colab": {
          "base_uri": "https://localhost:8080/",
          "height": 319
        },
        "outputId": "713ea59f-ea8b-47a1-8b88-b38aa98304d2"
      },
      "source": [
        "submission.isnull().sum()"
      ],
      "execution_count": 50,
      "outputs": [
        {
          "output_type": "execute_result",
          "data": {
            "text/plain": [
              "PassengerId            0\n",
              "Pclass                 0\n",
              "Sex                    0\n",
              "Age                    0\n",
              "SibSp                  0\n",
              "Parch                  0\n",
              "Fare                   1\n",
              "Embarked               0\n",
              "Cabin_numerical        0\n",
              "Cabin_categorical      0\n",
              "Ticket_numerical       0\n",
              "Ticket_categorical     0\n",
              "Title                  0\n",
              "Family_size            0\n",
              "is_mother              0\n",
              "Age_NA                 0\n",
              "Ticket_numerical_NA    0\n",
              "dtype: int64"
            ]
          },
          "metadata": {
            "tags": []
          },
          "execution_count": 50
        }
      ]
    },
    {
      "cell_type": "code",
      "metadata": {
        "id": "IPK9vsUQ6sBk",
        "colab_type": "code",
        "colab": {}
      },
      "source": [
        "# Fare in the submission dataset contains one null value, I will replace by the median \n",
        "submission.Fare.fillna(X_train.Fare.median(), inplace=True)"
      ],
      "execution_count": 0,
      "outputs": []
    },
    {
      "cell_type": "markdown",
      "metadata": {
        "id": "X_kz3wUE6sBz",
        "colab_type": "text"
      },
      "source": [
        "### Outliers in Numerical variables "
      ]
    },
    {
      "cell_type": "code",
      "metadata": {
        "id": "6fXYnXYw6sB0",
        "colab_type": "code",
        "colab": {}
      },
      "source": [
        "def top_code(df, variable, top):\n",
        "    return np.where(df[variable]>top, top, df[variable])\n",
        "\n",
        "for df in [X_train, X_test, submission]:\n",
        "    df['Age'] = top_code(df, 'Age', 73)\n",
        "    df['SibSp'] = top_code(df, 'SibSp', 4)\n",
        "    df['Parch'] = top_code(df, 'Parch', 2)\n",
        "    df['Family_size'] = top_code(df, 'Family_size', 7)"
      ],
      "execution_count": 0,
      "outputs": []
    },
    {
      "cell_type": "code",
      "metadata": {
        "id": "76rwiSXU6sB5",
        "colab_type": "code",
        "colab": {
          "base_uri": "https://localhost:8080/",
          "height": 84
        },
        "outputId": "d1c8205a-d674-499c-9cc9-153e947aed8d"
      },
      "source": [
        "# let's check that it worked\n",
        "for var in ['Age',  'SibSp', 'Parch', 'Family_size']:\n",
        "    print(var, ' max value: ', X_train[var].max())"
      ],
      "execution_count": 53,
      "outputs": [
        {
          "output_type": "stream",
          "text": [
            "Age  max value:  73.0\n",
            "SibSp  max value:  4\n",
            "Parch  max value:  2\n",
            "Family_size  max value:  7\n"
          ],
          "name": "stdout"
        }
      ]
    },
    {
      "cell_type": "code",
      "metadata": {
        "id": "4HC8wHtS6sCG",
        "colab_type": "code",
        "colab": {
          "base_uri": "https://localhost:8080/",
          "height": 84
        },
        "outputId": "9a01594a-1c5c-4973-fcd8-4b8d6a200283"
      },
      "source": [
        "# let's check that it worked\n",
        "for var in ['Age',  'SibSp', 'Parch', 'Family_size']:\n",
        "    print(var, ' max value: ', submission[var].max())"
      ],
      "execution_count": 54,
      "outputs": [
        {
          "output_type": "stream",
          "text": [
            "Age  max value:  73.0\n",
            "SibSp  max value:  4\n",
            "Parch  max value:  2\n",
            "Family_size  max value:  7\n"
          ],
          "name": "stdout"
        }
      ]
    },
    {
      "cell_type": "code",
      "metadata": {
        "id": "PeeSupUg6sCK",
        "colab_type": "code",
        "colab": {}
      },
      "source": [
        "# find quantiles and discretise train set\n",
        "X_train['Fare'], bins = pd.qcut(x=X_train['Fare'], q=8, retbins=True, precision=3, duplicates='raise')\n",
        "X_test['Fare'] = pd.cut(x = X_test['Fare'], bins=bins, include_lowest=True)\n",
        "submission['Fare'] = pd.cut(x = submission['Fare'], bins=bins, include_lowest=True)"
      ],
      "execution_count": 0,
      "outputs": []
    },
    {
      "cell_type": "code",
      "metadata": {
        "id": "UDRpfQwi6sCN",
        "colab_type": "code",
        "colab": {
          "base_uri": "https://localhost:8080/",
          "height": 34
        },
        "outputId": "9464f30b-925c-4de1-f780-e74caa5cd444"
      },
      "source": [
        "submission.Fare.isnull().sum()"
      ],
      "execution_count": 56,
      "outputs": [
        {
          "output_type": "execute_result",
          "data": {
            "text/plain": [
              "0"
            ]
          },
          "metadata": {
            "tags": []
          },
          "execution_count": 56
        }
      ]
    },
    {
      "cell_type": "code",
      "metadata": {
        "id": "nQSXlbV46sCZ",
        "colab_type": "code",
        "colab": {}
      },
      "source": [
        "# find quantiles and discretise train set\n",
        "X_train['Ticket_numerical'], bins = pd.qcut(x=X_train['Ticket_numerical'], q=8, retbins=True, precision=3, duplicates='raise')\n",
        "X_test['Ticket_numerical'] = pd.cut(x = X_test['Ticket_numerical'], bins=bins, include_lowest=True)\n",
        "submission['Ticket_numerical_temp'] = pd.cut(x = submission['Ticket_numerical'], bins=bins, include_lowest=True)"
      ],
      "execution_count": 0,
      "outputs": []
    },
    {
      "cell_type": "code",
      "metadata": {
        "id": "PWSWRtLd6sCk",
        "colab_type": "code",
        "colab": {
          "base_uri": "https://localhost:8080/",
          "height": 34
        },
        "outputId": "fd7bca34-4405-4c6a-99f5-b8ef6c9fe9fc"
      },
      "source": [
        "X_test.Ticket_numerical.isnull().sum()"
      ],
      "execution_count": 59,
      "outputs": [
        {
          "output_type": "execute_result",
          "data": {
            "text/plain": [
              "0"
            ]
          },
          "metadata": {
            "tags": []
          },
          "execution_count": 59
        }
      ]
    },
    {
      "cell_type": "code",
      "metadata": {
        "id": "xgSSr-a-6sCp",
        "colab_type": "code",
        "colab": {
          "base_uri": "https://localhost:8080/",
          "height": 34
        },
        "outputId": "56dc00b0-7859-4831-c007-84001ceb16cf"
      },
      "source": [
        "submission.Ticket_numerical_temp.isnull().sum()"
      ],
      "execution_count": 60,
      "outputs": [
        {
          "output_type": "execute_result",
          "data": {
            "text/plain": [
              "2"
            ]
          },
          "metadata": {
            "tags": []
          },
          "execution_count": 60
        }
      ]
    },
    {
      "cell_type": "code",
      "metadata": {
        "id": "dayfHLIT6sCt",
        "colab_type": "code",
        "colab": {
          "base_uri": "https://localhost:8080/",
          "height": 106
        },
        "outputId": "0c06ea95-0901-44fb-fcf6-d05879086442"
      },
      "source": [
        "submission[submission.Ticket_numerical_temp.isnull()][['Ticket_numerical', 'Ticket_numerical_temp']]"
      ],
      "execution_count": 61,
      "outputs": [
        {
          "output_type": "execute_result",
          "data": {
            "text/html": [
              "<div>\n",
              "<style scoped>\n",
              "    .dataframe tbody tr th:only-of-type {\n",
              "        vertical-align: middle;\n",
              "    }\n",
              "\n",
              "    .dataframe tbody tr th {\n",
              "        vertical-align: top;\n",
              "    }\n",
              "\n",
              "    .dataframe thead th {\n",
              "        text-align: right;\n",
              "    }\n",
              "</style>\n",
              "<table border=\"1\" class=\"dataframe\">\n",
              "  <thead>\n",
              "    <tr style=\"text-align: right;\">\n",
              "      <th></th>\n",
              "      <th>Ticket_numerical</th>\n",
              "      <th>Ticket_numerical_temp</th>\n",
              "    </tr>\n",
              "  </thead>\n",
              "  <tbody>\n",
              "    <tr>\n",
              "      <th>186</th>\n",
              "      <td>2.0</td>\n",
              "      <td>NaN</td>\n",
              "    </tr>\n",
              "    <tr>\n",
              "      <th>302</th>\n",
              "      <td>2.0</td>\n",
              "      <td>NaN</td>\n",
              "    </tr>\n",
              "  </tbody>\n",
              "</table>\n",
              "</div>"
            ],
            "text/plain": [
              "     Ticket_numerical Ticket_numerical_temp\n",
              "186               2.0                   NaN\n",
              "302               2.0                   NaN"
            ]
          },
          "metadata": {
            "tags": []
          },
          "execution_count": 61
        }
      ]
    },
    {
      "cell_type": "markdown",
      "metadata": {
        "id": "vge0qGA76sC6",
        "colab_type": "text"
      },
      "source": [
        "There are 2 values of ticket in the submission dataset, that could not be placed within the intervals calculated for the training set. let's look at the intervals to understand why this could have been the case."
      ]
    },
    {
      "cell_type": "code",
      "metadata": {
        "id": "KFMoBWf16sC6",
        "colab_type": "code",
        "colab": {
          "base_uri": "https://localhost:8080/",
          "height": 84
        },
        "outputId": "623bd1a2-2e9a-4e81-aa92-627979d6b831"
      },
      "source": [
        "# inspect the ticket bins in training set\n",
        "X_train.Ticket_numerical.unique()"
      ],
      "execution_count": 62,
      "outputs": [
        {
          "output_type": "execute_result",
          "data": {
            "text/plain": [
              "[(2.999, 2816.875], (14737.5, 24421.875], (364848.0, 3101317.0], (24421.875, 113053.0], (248701.0, 347077.25], (113053.0, 248701.0], (2816.875, 14737.5], (347077.25, 364848.0]]\n",
              "Categories (8, interval[float64]): [(2.999, 2816.875] < (2816.875, 14737.5] < (14737.5, 24421.875] <\n",
              "                                    (24421.875, 113053.0] < (113053.0, 248701.0] < (248701.0, 347077.25] <\n",
              "                                    (347077.25, 364848.0] < (364848.0, 3101317.0]]"
            ]
          },
          "metadata": {
            "tags": []
          },
          "execution_count": 62
        }
      ]
    },
    {
      "cell_type": "markdown",
      "metadata": {
        "id": "M-7QNIRp6sDH",
        "colab_type": "text"
      },
      "source": [
        "The lowest bin starts at 2.99, and the values for the tickets in the submission are 2, so slight below the interval. I will bottom code then that variable, and include those 2 values within the lowest interval. See below."
      ]
    },
    {
      "cell_type": "code",
      "metadata": {
        "id": "5sVODTEm6sDH",
        "colab_type": "code",
        "colab": {
          "base_uri": "https://localhost:8080/",
          "height": 34
        },
        "outputId": "9e403a52-7cd9-4470-ee43-f1d7f4436402"
      },
      "source": [
        "X_train.Ticket_numerical.unique()[0]"
      ],
      "execution_count": 63,
      "outputs": [
        {
          "output_type": "execute_result",
          "data": {
            "text/plain": [
              "Interval(2.999, 2816.875, closed='right')"
            ]
          },
          "metadata": {
            "tags": []
          },
          "execution_count": 63
        }
      ]
    },
    {
      "cell_type": "markdown",
      "metadata": {
        "id": "cFDW2ded6sDM",
        "colab_type": "text"
      },
      "source": [
        "There are 2 Ticket numerical parts in the submission dataset that are lower than any other in the training set. This I will include those in the lowest interval [2.99-2816]"
      ]
    },
    {
      "cell_type": "code",
      "metadata": {
        "id": "S8SmNY8x6sDU",
        "colab_type": "code",
        "colab": {
          "base_uri": "https://localhost:8080/",
          "height": 34
        },
        "outputId": "0aad6936-2dda-4c44-879b-12137239c55a"
      },
      "source": [
        "submission.loc[submission.Ticket_numerical_temp.isnull(), 'Ticket_numerical_temp'] = X_train.Ticket_numerical.unique()[0]\n",
        "submission.Ticket_numerical_temp.isnull().sum()"
      ],
      "execution_count": 64,
      "outputs": [
        {
          "output_type": "execute_result",
          "data": {
            "text/plain": [
              "0"
            ]
          },
          "metadata": {
            "tags": []
          },
          "execution_count": 64
        }
      ]
    },
    {
      "cell_type": "code",
      "metadata": {
        "id": "zlsR3VTX6sDY",
        "colab_type": "code",
        "colab": {
          "base_uri": "https://localhost:8080/",
          "height": 299
        },
        "outputId": "ff2bbd52-c0ef-48e7-d9a4-e2d79aca5101"
      },
      "source": [
        "submission['Ticket_numerical'] = submission['Ticket_numerical_temp']\n",
        "submission.drop(labels=['Ticket_numerical_temp'], inplace=True, axis=1)\n",
        "submission.head()"
      ],
      "execution_count": 65,
      "outputs": [
        {
          "output_type": "execute_result",
          "data": {
            "text/html": [
              "<div>\n",
              "<style scoped>\n",
              "    .dataframe tbody tr th:only-of-type {\n",
              "        vertical-align: middle;\n",
              "    }\n",
              "\n",
              "    .dataframe tbody tr th {\n",
              "        vertical-align: top;\n",
              "    }\n",
              "\n",
              "    .dataframe thead th {\n",
              "        text-align: right;\n",
              "    }\n",
              "</style>\n",
              "<table border=\"1\" class=\"dataframe\">\n",
              "  <thead>\n",
              "    <tr style=\"text-align: right;\">\n",
              "      <th></th>\n",
              "      <th>PassengerId</th>\n",
              "      <th>Pclass</th>\n",
              "      <th>Sex</th>\n",
              "      <th>Age</th>\n",
              "      <th>SibSp</th>\n",
              "      <th>Parch</th>\n",
              "      <th>Fare</th>\n",
              "      <th>Embarked</th>\n",
              "      <th>Cabin_numerical</th>\n",
              "      <th>Cabin_categorical</th>\n",
              "      <th>Ticket_numerical</th>\n",
              "      <th>Ticket_categorical</th>\n",
              "      <th>Title</th>\n",
              "      <th>Family_size</th>\n",
              "      <th>is_mother</th>\n",
              "      <th>Age_NA</th>\n",
              "      <th>Ticket_numerical_NA</th>\n",
              "    </tr>\n",
              "  </thead>\n",
              "  <tbody>\n",
              "    <tr>\n",
              "      <th>0</th>\n",
              "      <td>892</td>\n",
              "      <td>3</td>\n",
              "      <td>male</td>\n",
              "      <td>34.5</td>\n",
              "      <td>0</td>\n",
              "      <td>0</td>\n",
              "      <td>(7.75, 7.918]</td>\n",
              "      <td>Q</td>\n",
              "      <td>158.222059</td>\n",
              "      <td>Missing</td>\n",
              "      <td>(248701.0, 347077.25]</td>\n",
              "      <td>NAN</td>\n",
              "      <td>Mr</td>\n",
              "      <td>1</td>\n",
              "      <td>0</td>\n",
              "      <td>0</td>\n",
              "      <td>0</td>\n",
              "    </tr>\n",
              "    <tr>\n",
              "      <th>1</th>\n",
              "      <td>893</td>\n",
              "      <td>3</td>\n",
              "      <td>female</td>\n",
              "      <td>47.0</td>\n",
              "      <td>1</td>\n",
              "      <td>0</td>\n",
              "      <td>(-0.001, 7.75]</td>\n",
              "      <td>S</td>\n",
              "      <td>158.222059</td>\n",
              "      <td>Missing</td>\n",
              "      <td>(347077.25, 364848.0]</td>\n",
              "      <td>NAN</td>\n",
              "      <td>Mrs</td>\n",
              "      <td>2</td>\n",
              "      <td>0</td>\n",
              "      <td>0</td>\n",
              "      <td>0</td>\n",
              "    </tr>\n",
              "    <tr>\n",
              "      <th>2</th>\n",
              "      <td>894</td>\n",
              "      <td>2</td>\n",
              "      <td>male</td>\n",
              "      <td>62.0</td>\n",
              "      <td>0</td>\n",
              "      <td>0</td>\n",
              "      <td>(7.918, 10.353]</td>\n",
              "      <td>Q</td>\n",
              "      <td>158.222059</td>\n",
              "      <td>Missing</td>\n",
              "      <td>(113053.0, 248701.0]</td>\n",
              "      <td>NAN</td>\n",
              "      <td>Mr</td>\n",
              "      <td>1</td>\n",
              "      <td>0</td>\n",
              "      <td>0</td>\n",
              "      <td>0</td>\n",
              "    </tr>\n",
              "    <tr>\n",
              "      <th>3</th>\n",
              "      <td>895</td>\n",
              "      <td>3</td>\n",
              "      <td>male</td>\n",
              "      <td>27.0</td>\n",
              "      <td>0</td>\n",
              "      <td>0</td>\n",
              "      <td>(7.918, 10.353]</td>\n",
              "      <td>S</td>\n",
              "      <td>158.222059</td>\n",
              "      <td>Missing</td>\n",
              "      <td>(248701.0, 347077.25]</td>\n",
              "      <td>NAN</td>\n",
              "      <td>Mr</td>\n",
              "      <td>1</td>\n",
              "      <td>0</td>\n",
              "      <td>0</td>\n",
              "      <td>0</td>\n",
              "    </tr>\n",
              "    <tr>\n",
              "      <th>4</th>\n",
              "      <td>896</td>\n",
              "      <td>3</td>\n",
              "      <td>female</td>\n",
              "      <td>22.0</td>\n",
              "      <td>1</td>\n",
              "      <td>1</td>\n",
              "      <td>(10.353, 14.456]</td>\n",
              "      <td>S</td>\n",
              "      <td>158.222059</td>\n",
              "      <td>Missing</td>\n",
              "      <td>(364848.0, 3101317.0]</td>\n",
              "      <td>NAN</td>\n",
              "      <td>Mrs</td>\n",
              "      <td>3</td>\n",
              "      <td>1</td>\n",
              "      <td>0</td>\n",
              "      <td>0</td>\n",
              "    </tr>\n",
              "  </tbody>\n",
              "</table>\n",
              "</div>"
            ],
            "text/plain": [
              "   PassengerId  Pclass     Sex   Age  SibSp  Parch              Fare Embarked  \\\n",
              "0          892       3    male  34.5      0      0     (7.75, 7.918]        Q   \n",
              "1          893       3  female  47.0      1      0    (-0.001, 7.75]        S   \n",
              "2          894       2    male  62.0      0      0   (7.918, 10.353]        Q   \n",
              "3          895       3    male  27.0      0      0   (7.918, 10.353]        S   \n",
              "4          896       3  female  22.0      1      1  (10.353, 14.456]        S   \n",
              "\n",
              "   Cabin_numerical Cabin_categorical       Ticket_numerical  \\\n",
              "0       158.222059           Missing  (248701.0, 347077.25]   \n",
              "1       158.222059           Missing  (347077.25, 364848.0]   \n",
              "2       158.222059           Missing   (113053.0, 248701.0]   \n",
              "3       158.222059           Missing  (248701.0, 347077.25]   \n",
              "4       158.222059           Missing  (364848.0, 3101317.0]   \n",
              "\n",
              "  Ticket_categorical Title  Family_size  is_mother  Age_NA  \\\n",
              "0                NAN    Mr            1          0       0   \n",
              "1                NAN   Mrs            2          0       0   \n",
              "2                NAN    Mr            1          0       0   \n",
              "3                NAN    Mr            1          0       0   \n",
              "4                NAN   Mrs            3          1       0   \n",
              "\n",
              "   Ticket_numerical_NA  \n",
              "0                    0  \n",
              "1                    0  \n",
              "2                    0  \n",
              "3                    0  \n",
              "4                    0  "
            ]
          },
          "metadata": {
            "tags": []
          },
          "execution_count": 65
        }
      ]
    },
    {
      "cell_type": "markdown",
      "metadata": {
        "id": "pirsUnFN6sDa",
        "colab_type": "text"
      },
      "source": [
        "### Engineering rare labels in categorical variables "
      ]
    },
    {
      "cell_type": "code",
      "metadata": {
        "scrolled": true,
        "id": "3w5dqw_o6sDa",
        "colab_type": "code",
        "colab": {
          "base_uri": "https://localhost:8080/",
          "height": 924
        },
        "outputId": "78483deb-feba-4780-cc1f-ed26b97c5783"
      },
      "source": [
        "# find unfrequent labels in categorical variables\n",
        "for var in categorical:\n",
        "    print(var, X_train[var].value_counts()/np.float(len(X_train)))\n",
        "    print()"
      ],
      "execution_count": 66,
      "outputs": [
        {
          "output_type": "stream",
          "text": [
            "Sex male      0.65309\n",
            "female    0.34691\n",
            "Name: Sex, dtype: float64\n",
            "\n",
            "Embarked S    0.728933\n",
            "C    0.181180\n",
            "Q    0.089888\n",
            "Name: Embarked, dtype: float64\n",
            "\n",
            "Cabin_categorical Missing    0.771067\n",
            "C          0.061798\n",
            "B          0.050562\n",
            "E          0.040730\n",
            "D          0.036517\n",
            "A          0.021067\n",
            "F          0.012640\n",
            "G          0.004213\n",
            "T          0.001404\n",
            "Name: Cabin_categorical, dtype: float64\n",
            "\n",
            "Ticket_categorical NAN        0.728933\n",
            "PC         0.066011\n",
            "CA         0.050562\n",
            "A          0.035112\n",
            "STONO      0.023876\n",
            "SOTONOQ    0.016854\n",
            "SCPARIS    0.014045\n",
            "WC         0.014045\n",
            "SOC        0.007022\n",
            "LINE       0.005618\n",
            "C          0.005618\n",
            "WEP        0.004213\n",
            "PP         0.004213\n",
            "PPP        0.002809\n",
            "SOPP       0.002809\n",
            "SCAH       0.002809\n",
            "SOTONO     0.002809\n",
            "FCC        0.002809\n",
            "FC         0.001404\n",
            "FA         0.001404\n",
            "SCA        0.001404\n",
            "SP         0.001404\n",
            "SWPP       0.001404\n",
            "SCOW       0.001404\n",
            "AS         0.001404\n",
            "Name: Ticket_categorical, dtype: float64\n",
            "\n",
            "Title Mr        0.589888\n",
            "Miss      0.200843\n",
            "Mrs       0.140449\n",
            "Master    0.049157\n",
            "Other     0.019663\n",
            "Name: Title, dtype: float64\n",
            "\n"
          ],
          "name": "stdout"
        }
      ]
    },
    {
      "cell_type": "markdown",
      "metadata": {
        "id": "mkWqrlyy6sDd",
        "colab_type": "text"
      },
      "source": [
        "- Cabin contains the rare labels G and T: replace by most frequent category\n",
        "- Ticket contains a lot of unfrequent labels: replace by rare\n",
        "\n",
        "Because the number of passengers in the rare cabins is so small, grouping them into a new category called rare, will be in itself rare, and may be prone to overfitting. Thus, in cabin, I will replace rare labels by the most frequent category.\n",
        "In ticket_categorical, on the other hand, the number of unfrequent labels is high, therefore grouping them into a new label makes sense."
      ]
    },
    {
      "cell_type": "code",
      "metadata": {
        "id": "g_KLsXxQ6sDe",
        "colab_type": "code",
        "colab": {}
      },
      "source": [
        "def rare_imputation(variable, which='rare'):    \n",
        "    # find frequent labels\n",
        "    temp = X_train.groupby([variable])[variable].count()/np.float(len(X_train))\n",
        "    frequent_cat = [x for x in temp.loc[temp>0.01].index.values]\n",
        "    \n",
        "    # create new variables, with Rare labels imputed\n",
        "    if which=='frequent':\n",
        "        # find the most frequent category\n",
        "        mode_label = X_train.groupby(variable)[variable].count().sort_values().tail(1).index.values[0]\n",
        "        X_train[variable] = np.where(X_train[variable].isin(frequent_cat), X_train[variable], mode_label)\n",
        "        X_test[variable] = np.where(X_test[variable].isin(frequent_cat), X_test[variable], mode_label)\n",
        "        submission[variable] = np.where(submission[variable].isin(frequent_cat), submission[variable], mode_label)\n",
        "    \n",
        "    else:\n",
        "        X_train[variable] = np.where(X_train[variable].isin(frequent_cat), X_train[variable], 'Rare')\n",
        "        X_test[variable] = np.where(X_test[variable].isin(frequent_cat), X_test[variable], 'Rare')\n",
        "        submission[variable] = np.where(submission[variable].isin(frequent_cat), submission[variable], 'Rare')"
      ],
      "execution_count": 0,
      "outputs": []
    },
    {
      "cell_type": "code",
      "metadata": {
        "id": "7nkSVPrp6sDf",
        "colab_type": "code",
        "colab": {}
      },
      "source": [
        "rare_imputation('Cabin_categorical', 'frequent')\n",
        "rare_imputation('Ticket_categorical', 'rare')"
      ],
      "execution_count": 0,
      "outputs": []
    },
    {
      "cell_type": "code",
      "metadata": {
        "id": "BeGcvpZj6sDg",
        "colab_type": "code",
        "colab": {
          "base_uri": "https://localhost:8080/",
          "height": 622
        },
        "outputId": "21c23dcf-85c4-455b-b228-f13bc0f0e3c1"
      },
      "source": [
        "# let's check that it worked\n",
        "for var in categorical:\n",
        "    print(var, X_train[var].value_counts()/np.float(len(X_train)))\n",
        "    print()"
      ],
      "execution_count": 69,
      "outputs": [
        {
          "output_type": "stream",
          "text": [
            "Sex male      0.65309\n",
            "female    0.34691\n",
            "Name: Sex, dtype: float64\n",
            "\n",
            "Embarked S    0.728933\n",
            "C    0.181180\n",
            "Q    0.089888\n",
            "Name: Embarked, dtype: float64\n",
            "\n",
            "Cabin_categorical Missing    0.776685\n",
            "C          0.061798\n",
            "B          0.050562\n",
            "E          0.040730\n",
            "D          0.036517\n",
            "A          0.021067\n",
            "F          0.012640\n",
            "Name: Cabin_categorical, dtype: float64\n",
            "\n",
            "Ticket_categorical NAN        0.728933\n",
            "PC         0.066011\n",
            "Rare       0.050562\n",
            "CA         0.050562\n",
            "A          0.035112\n",
            "STONO      0.023876\n",
            "SOTONOQ    0.016854\n",
            "WC         0.014045\n",
            "SCPARIS    0.014045\n",
            "Name: Ticket_categorical, dtype: float64\n",
            "\n",
            "Title Mr        0.589888\n",
            "Miss      0.200843\n",
            "Mrs       0.140449\n",
            "Master    0.049157\n",
            "Other     0.019663\n",
            "Name: Title, dtype: float64\n",
            "\n"
          ],
          "name": "stdout"
        }
      ]
    },
    {
      "cell_type": "code",
      "metadata": {
        "id": "OdHssCVr6sDq",
        "colab_type": "code",
        "colab": {
          "base_uri": "https://localhost:8080/",
          "height": 622
        },
        "outputId": "1a67c4f2-8e7a-4f6d-b97c-910894fec852"
      },
      "source": [
        "# let's check that it worked\n",
        "for var in categorical:\n",
        "    print(var, submission[var].value_counts()/np.float(len(submission)))\n",
        "    print()"
      ],
      "execution_count": 70,
      "outputs": [
        {
          "output_type": "stream",
          "text": [
            "Sex male      0.636364\n",
            "female    0.363636\n",
            "Name: Sex, dtype: float64\n",
            "\n",
            "Embarked S    0.645933\n",
            "C    0.244019\n",
            "Q    0.110048\n",
            "Name: Embarked, dtype: float64\n",
            "\n",
            "Cabin_categorical Missing    0.784689\n",
            "C          0.083732\n",
            "B          0.043062\n",
            "D          0.031100\n",
            "E          0.021531\n",
            "F          0.019139\n",
            "A          0.016746\n",
            "Name: Cabin_categorical, dtype: float64\n",
            "\n",
            "Ticket_categorical NAN        0.708134\n",
            "PC         0.076555\n",
            "Rare       0.064593\n",
            "CA         0.064593\n",
            "A          0.026316\n",
            "SOTONOQ    0.021531\n",
            "SCPARIS    0.019139\n",
            "WC         0.011962\n",
            "STONO      0.007177\n",
            "Name: Ticket_categorical, dtype: float64\n",
            "\n",
            "Title Mr        0.574163\n",
            "Miss      0.186603\n",
            "Mrs       0.172249\n",
            "Master    0.050239\n",
            "Other     0.016746\n",
            "Name: Title, dtype: float64\n",
            "\n"
          ],
          "name": "stdout"
        }
      ]
    },
    {
      "cell_type": "markdown",
      "metadata": {
        "id": "VvsFLH8m6sDt",
        "colab_type": "text"
      },
      "source": [
        "### Encode categorical variables (section 10)"
      ]
    },
    {
      "cell_type": "code",
      "metadata": {
        "id": "V_7tUnG66sDv",
        "colab_type": "code",
        "colab": {
          "base_uri": "https://localhost:8080/",
          "height": 34
        },
        "outputId": "6277a6d8-2eb2-47fb-8016-7333df3466c0"
      },
      "source": [
        "categorical"
      ],
      "execution_count": 71,
      "outputs": [
        {
          "output_type": "execute_result",
          "data": {
            "text/plain": [
              "['Sex', 'Embarked', 'Cabin_categorical', 'Ticket_categorical', 'Title']"
            ]
          },
          "metadata": {
            "tags": []
          },
          "execution_count": 71
        }
      ]
    },
    {
      "cell_type": "markdown",
      "metadata": {
        "id": "0ukbRvgk6sD1",
        "colab_type": "text"
      },
      "source": [
        "- Sex: one hot encoding\n",
        "- Remaining variables: replace by risk probability"
      ]
    },
    {
      "cell_type": "code",
      "metadata": {
        "id": "zHsFuwg96sD3",
        "colab_type": "code",
        "colab": {}
      },
      "source": [
        "for df in [X_train, X_test, submission]:\n",
        "    df['Sex']  = pd.get_dummies(df.Sex, drop_first=True)"
      ],
      "execution_count": 0,
      "outputs": []
    },
    {
      "cell_type": "code",
      "metadata": {
        "id": "VfgTlWcz6sD7",
        "colab_type": "code",
        "colab": {
          "base_uri": "https://localhost:8080/",
          "height": 34
        },
        "outputId": "5deb14c1-85ad-496a-d805-14d0b15fac28"
      },
      "source": [
        "X_train.Sex.unique()"
      ],
      "execution_count": 73,
      "outputs": [
        {
          "output_type": "execute_result",
          "data": {
            "text/plain": [
              "array([0, 1], dtype=uint64)"
            ]
          },
          "metadata": {
            "tags": []
          },
          "execution_count": 73
        }
      ]
    },
    {
      "cell_type": "code",
      "metadata": {
        "id": "l7zbfSH36sD9",
        "colab_type": "code",
        "colab": {
          "base_uri": "https://localhost:8080/",
          "height": 34
        },
        "outputId": "4f5cf0c0-2184-4a72-f508-6a9e144a4e5d"
      },
      "source": [
        "X_test.Sex.unique()"
      ],
      "execution_count": 74,
      "outputs": [
        {
          "output_type": "execute_result",
          "data": {
            "text/plain": [
              "array([1, 0], dtype=uint64)"
            ]
          },
          "metadata": {
            "tags": []
          },
          "execution_count": 74
        }
      ]
    },
    {
      "cell_type": "code",
      "metadata": {
        "id": "QFXCfr3i6sD_",
        "colab_type": "code",
        "colab": {
          "base_uri": "https://localhost:8080/",
          "height": 34
        },
        "outputId": "a9c4b5a0-1d38-4f44-ca1e-f3d6780093d4"
      },
      "source": [
        "submission.Sex.unique()"
      ],
      "execution_count": 75,
      "outputs": [
        {
          "output_type": "execute_result",
          "data": {
            "text/plain": [
              "array([1, 0], dtype=uint64)"
            ]
          },
          "metadata": {
            "tags": []
          },
          "execution_count": 75
        }
      ]
    },
    {
      "cell_type": "code",
      "metadata": {
        "id": "jKzNdbLT6sEA",
        "colab_type": "code",
        "colab": {}
      },
      "source": [
        "def encode_categorical_variables(var, target):\n",
        "        # make label to risk dictionary\n",
        "        ordered_labels = X_train.groupby([var])[target].mean().to_dict()\n",
        "        \n",
        "        # encode variables\n",
        "        X_train[var] = X_train[var].map(ordered_labels)\n",
        "        X_test[var] = X_test[var].map(ordered_labels)\n",
        "        submission[var] = submission[var].map(ordered_labels)\n",
        "\n",
        "# enccode labels in categorical vars\n",
        "for var in categorical:\n",
        "    encode_categorical_variables(var, 'Survived')"
      ],
      "execution_count": 0,
      "outputs": []
    },
    {
      "cell_type": "code",
      "metadata": {
        "id": "6ulQw8Eg6sEB",
        "colab_type": "code",
        "colab": {}
      },
      "source": [
        "# parse discretised variables to object before encoding\n",
        "for df in [X_train, X_test, submission]:\n",
        "    df.Fare = df.Fare.astype('O')\n",
        "    df.Ticket_numerical = df.Ticket_numerical.astype('O')"
      ],
      "execution_count": 0,
      "outputs": []
    },
    {
      "cell_type": "code",
      "metadata": {
        "id": "mAb06_vF6sEC",
        "colab_type": "code",
        "colab": {
          "base_uri": "https://localhost:8080/",
          "height": 50
        },
        "outputId": "6c3ffb2f-afcc-4d89-affa-e66187ebaa87"
      },
      "source": [
        "# encode labels\n",
        "for var in ['Fare', 'Ticket_numerical']:\n",
        "    print(var)\n",
        "    encode_categorical_variables(var, 'Survived')"
      ],
      "execution_count": 78,
      "outputs": [
        {
          "output_type": "stream",
          "text": [
            "Fare\n",
            "Ticket_numerical\n"
          ],
          "name": "stdout"
        }
      ]
    },
    {
      "cell_type": "code",
      "metadata": {
        "id": "WYB5Vx_S6sEH",
        "colab_type": "code",
        "colab": {
          "base_uri": "https://localhost:8080/",
          "height": 215
        },
        "outputId": "a5091b37-3986-4921-948c-7913af5e17a9"
      },
      "source": [
        "#let's inspect the dataset\n",
        "X_train.head()"
      ],
      "execution_count": 79,
      "outputs": [
        {
          "output_type": "execute_result",
          "data": {
            "text/html": [
              "<div>\n",
              "<style scoped>\n",
              "    .dataframe tbody tr th:only-of-type {\n",
              "        vertical-align: middle;\n",
              "    }\n",
              "\n",
              "    .dataframe tbody tr th {\n",
              "        vertical-align: top;\n",
              "    }\n",
              "\n",
              "    .dataframe thead th {\n",
              "        text-align: right;\n",
              "    }\n",
              "</style>\n",
              "<table border=\"1\" class=\"dataframe\">\n",
              "  <thead>\n",
              "    <tr style=\"text-align: right;\">\n",
              "      <th></th>\n",
              "      <th>PassengerId</th>\n",
              "      <th>Survived</th>\n",
              "      <th>Pclass</th>\n",
              "      <th>Sex</th>\n",
              "      <th>Age</th>\n",
              "      <th>SibSp</th>\n",
              "      <th>Parch</th>\n",
              "      <th>Fare</th>\n",
              "      <th>Embarked</th>\n",
              "      <th>Cabin_numerical</th>\n",
              "      <th>Cabin_categorical</th>\n",
              "      <th>Ticket_numerical</th>\n",
              "      <th>Ticket_categorical</th>\n",
              "      <th>Title</th>\n",
              "      <th>Family_size</th>\n",
              "      <th>is_mother</th>\n",
              "      <th>Age_NA</th>\n",
              "      <th>Ticket_numerical_NA</th>\n",
              "    </tr>\n",
              "  </thead>\n",
              "  <tbody>\n",
              "    <tr>\n",
              "      <th>140</th>\n",
              "      <td>141</td>\n",
              "      <td>0</td>\n",
              "      <td>3</td>\n",
              "      <td>0.744939</td>\n",
              "      <td>27.0</td>\n",
              "      <td>0</td>\n",
              "      <td>2</td>\n",
              "      <td>0.397849</td>\n",
              "      <td>0.527132</td>\n",
              "      <td>158.222059</td>\n",
              "      <td>0.307414</td>\n",
              "      <td>0.348315</td>\n",
              "      <td>0.394990</td>\n",
              "      <td>0.790000</td>\n",
              "      <td>3</td>\n",
              "      <td>0</td>\n",
              "      <td>1</td>\n",
              "      <td>0</td>\n",
              "    </tr>\n",
              "    <tr>\n",
              "      <th>439</th>\n",
              "      <td>440</td>\n",
              "      <td>0</td>\n",
              "      <td>2</td>\n",
              "      <td>0.191398</td>\n",
              "      <td>31.0</td>\n",
              "      <td>0</td>\n",
              "      <td>0</td>\n",
              "      <td>0.404494</td>\n",
              "      <td>0.342967</td>\n",
              "      <td>158.222059</td>\n",
              "      <td>0.307414</td>\n",
              "      <td>0.573034</td>\n",
              "      <td>0.305556</td>\n",
              "      <td>0.157143</td>\n",
              "      <td>1</td>\n",
              "      <td>0</td>\n",
              "      <td>0</td>\n",
              "      <td>0</td>\n",
              "    </tr>\n",
              "    <tr>\n",
              "      <th>817</th>\n",
              "      <td>818</td>\n",
              "      <td>0</td>\n",
              "      <td>2</td>\n",
              "      <td>0.191398</td>\n",
              "      <td>31.0</td>\n",
              "      <td>1</td>\n",
              "      <td>1</td>\n",
              "      <td>0.494118</td>\n",
              "      <td>0.527132</td>\n",
              "      <td>158.222059</td>\n",
              "      <td>0.307414</td>\n",
              "      <td>0.348315</td>\n",
              "      <td>0.500000</td>\n",
              "      <td>0.157143</td>\n",
              "      <td>3</td>\n",
              "      <td>0</td>\n",
              "      <td>0</td>\n",
              "      <td>0</td>\n",
              "    </tr>\n",
              "    <tr>\n",
              "      <th>378</th>\n",
              "      <td>379</td>\n",
              "      <td>0</td>\n",
              "      <td>3</td>\n",
              "      <td>0.191398</td>\n",
              "      <td>20.0</td>\n",
              "      <td>0</td>\n",
              "      <td>0</td>\n",
              "      <td>0.223214</td>\n",
              "      <td>0.527132</td>\n",
              "      <td>158.222059</td>\n",
              "      <td>0.307414</td>\n",
              "      <td>0.348315</td>\n",
              "      <td>0.394990</td>\n",
              "      <td>0.157143</td>\n",
              "      <td>1</td>\n",
              "      <td>0</td>\n",
              "      <td>0</td>\n",
              "      <td>0</td>\n",
              "    </tr>\n",
              "    <tr>\n",
              "      <th>491</th>\n",
              "      <td>492</td>\n",
              "      <td>0</td>\n",
              "      <td>3</td>\n",
              "      <td>0.191398</td>\n",
              "      <td>21.0</td>\n",
              "      <td>0</td>\n",
              "      <td>0</td>\n",
              "      <td>0.223214</td>\n",
              "      <td>0.342967</td>\n",
              "      <td>158.222059</td>\n",
              "      <td>0.307414</td>\n",
              "      <td>0.306818</td>\n",
              "      <td>0.166667</td>\n",
              "      <td>0.157143</td>\n",
              "      <td>1</td>\n",
              "      <td>0</td>\n",
              "      <td>0</td>\n",
              "      <td>0</td>\n",
              "    </tr>\n",
              "  </tbody>\n",
              "</table>\n",
              "</div>"
            ],
            "text/plain": [
              "     PassengerId  Survived  Pclass       Sex   Age  SibSp  Parch      Fare  \\\n",
              "140          141         0       3  0.744939  27.0      0      2  0.397849   \n",
              "439          440         0       2  0.191398  31.0      0      0  0.404494   \n",
              "817          818         0       2  0.191398  31.0      1      1  0.494118   \n",
              "378          379         0       3  0.191398  20.0      0      0  0.223214   \n",
              "491          492         0       3  0.191398  21.0      0      0  0.223214   \n",
              "\n",
              "     Embarked  Cabin_numerical  Cabin_categorical  Ticket_numerical  \\\n",
              "140  0.527132       158.222059           0.307414          0.348315   \n",
              "439  0.342967       158.222059           0.307414          0.573034   \n",
              "817  0.527132       158.222059           0.307414          0.348315   \n",
              "378  0.527132       158.222059           0.307414          0.348315   \n",
              "491  0.342967       158.222059           0.307414          0.306818   \n",
              "\n",
              "     Ticket_categorical     Title  Family_size  is_mother  Age_NA  \\\n",
              "140            0.394990  0.790000            3          0       1   \n",
              "439            0.305556  0.157143            1          0       0   \n",
              "817            0.500000  0.157143            3          0       0   \n",
              "378            0.394990  0.157143            1          0       0   \n",
              "491            0.166667  0.157143            1          0       0   \n",
              "\n",
              "     Ticket_numerical_NA  \n",
              "140                    0  \n",
              "439                    0  \n",
              "817                    0  \n",
              "378                    0  \n",
              "491                    0  "
            ]
          },
          "metadata": {
            "tags": []
          },
          "execution_count": 79
        }
      ]
    },
    {
      "cell_type": "markdown",
      "metadata": {
        "id": "JILHDBls6sEJ",
        "colab_type": "text"
      },
      "source": [
        "\n",
        "\n",
        "### Feature scaling "
      ]
    },
    {
      "cell_type": "code",
      "metadata": {
        "id": "Nhwbus076sEJ",
        "colab_type": "code",
        "colab": {
          "base_uri": "https://localhost:8080/",
          "height": 304
        },
        "outputId": "db905915-51ec-4ce9-e63a-a868345710f3"
      },
      "source": [
        "X_train.describe()"
      ],
      "execution_count": 80,
      "outputs": [
        {
          "output_type": "execute_result",
          "data": {
            "text/html": [
              "<div>\n",
              "<style scoped>\n",
              "    .dataframe tbody tr th:only-of-type {\n",
              "        vertical-align: middle;\n",
              "    }\n",
              "\n",
              "    .dataframe tbody tr th {\n",
              "        vertical-align: top;\n",
              "    }\n",
              "\n",
              "    .dataframe thead th {\n",
              "        text-align: right;\n",
              "    }\n",
              "</style>\n",
              "<table border=\"1\" class=\"dataframe\">\n",
              "  <thead>\n",
              "    <tr style=\"text-align: right;\">\n",
              "      <th></th>\n",
              "      <th>PassengerId</th>\n",
              "      <th>Survived</th>\n",
              "      <th>Pclass</th>\n",
              "      <th>Sex</th>\n",
              "      <th>Age</th>\n",
              "      <th>SibSp</th>\n",
              "      <th>Parch</th>\n",
              "      <th>Fare</th>\n",
              "      <th>Embarked</th>\n",
              "      <th>Cabin_numerical</th>\n",
              "      <th>Cabin_categorical</th>\n",
              "      <th>Ticket_numerical</th>\n",
              "      <th>Ticket_categorical</th>\n",
              "      <th>Title</th>\n",
              "      <th>Family_size</th>\n",
              "      <th>is_mother</th>\n",
              "      <th>Age_NA</th>\n",
              "      <th>Ticket_numerical_NA</th>\n",
              "    </tr>\n",
              "  </thead>\n",
              "  <tbody>\n",
              "    <tr>\n",
              "      <th>count</th>\n",
              "      <td>712.000000</td>\n",
              "      <td>712.000000</td>\n",
              "      <td>712.000000</td>\n",
              "      <td>712.000000</td>\n",
              "      <td>712.000000</td>\n",
              "      <td>712.000000</td>\n",
              "      <td>712.000000</td>\n",
              "      <td>712.000000</td>\n",
              "      <td>712.000000</td>\n",
              "      <td>712.000000</td>\n",
              "      <td>712.000000</td>\n",
              "      <td>712.000000</td>\n",
              "      <td>712.000000</td>\n",
              "      <td>712.000000</td>\n",
              "      <td>712.000000</td>\n",
              "      <td>712.000000</td>\n",
              "      <td>712.000000</td>\n",
              "      <td>712.000000</td>\n",
              "    </tr>\n",
              "    <tr>\n",
              "      <th>mean</th>\n",
              "      <td>443.283708</td>\n",
              "      <td>0.383427</td>\n",
              "      <td>2.317416</td>\n",
              "      <td>0.383427</td>\n",
              "      <td>29.807584</td>\n",
              "      <td>0.484551</td>\n",
              "      <td>0.353933</td>\n",
              "      <td>0.383427</td>\n",
              "      <td>0.383427</td>\n",
              "      <td>133.956178</td>\n",
              "      <td>0.383427</td>\n",
              "      <td>0.383427</td>\n",
              "      <td>0.383427</td>\n",
              "      <td>0.383427</td>\n",
              "      <td>1.875000</td>\n",
              "      <td>0.067416</td>\n",
              "      <td>0.198034</td>\n",
              "      <td>0.005618</td>\n",
              "    </tr>\n",
              "    <tr>\n",
              "      <th>std</th>\n",
              "      <td>260.003783</td>\n",
              "      <td>0.486563</td>\n",
              "      <td>0.833767</td>\n",
              "      <td>0.263664</td>\n",
              "      <td>14.496489</td>\n",
              "      <td>0.907718</td>\n",
              "      <td>0.673811</td>\n",
              "      <td>0.144616</td>\n",
              "      <td>0.071238</td>\n",
              "      <td>48.398112</td>\n",
              "      <td>0.149408</td>\n",
              "      <td>0.118238</td>\n",
              "      <td>0.098434</td>\n",
              "      <td>0.276532</td>\n",
              "      <td>1.460148</td>\n",
              "      <td>0.250917</td>\n",
              "      <td>0.398798</td>\n",
              "      <td>0.074795</td>\n",
              "    </tr>\n",
              "    <tr>\n",
              "      <th>min</th>\n",
              "      <td>1.000000</td>\n",
              "      <td>0.000000</td>\n",
              "      <td>1.000000</td>\n",
              "      <td>0.191398</td>\n",
              "      <td>0.670000</td>\n",
              "      <td>0.000000</td>\n",
              "      <td>0.000000</td>\n",
              "      <td>0.212121</td>\n",
              "      <td>0.342967</td>\n",
              "      <td>2.000000</td>\n",
              "      <td>0.307414</td>\n",
              "      <td>0.166667</td>\n",
              "      <td>0.080000</td>\n",
              "      <td>0.157143</td>\n",
              "      <td>1.000000</td>\n",
              "      <td>0.000000</td>\n",
              "      <td>0.000000</td>\n",
              "      <td>0.000000</td>\n",
              "    </tr>\n",
              "    <tr>\n",
              "      <th>25%</th>\n",
              "      <td>211.750000</td>\n",
              "      <td>0.000000</td>\n",
              "      <td>2.000000</td>\n",
              "      <td>0.191398</td>\n",
              "      <td>21.000000</td>\n",
              "      <td>0.000000</td>\n",
              "      <td>0.000000</td>\n",
              "      <td>0.232770</td>\n",
              "      <td>0.342967</td>\n",
              "      <td>158.222059</td>\n",
              "      <td>0.307414</td>\n",
              "      <td>0.321087</td>\n",
              "      <td>0.394990</td>\n",
              "      <td>0.157143</td>\n",
              "      <td>1.000000</td>\n",
              "      <td>0.000000</td>\n",
              "      <td>0.000000</td>\n",
              "      <td>0.000000</td>\n",
              "    </tr>\n",
              "    <tr>\n",
              "      <th>50%</th>\n",
              "      <td>441.000000</td>\n",
              "      <td>0.000000</td>\n",
              "      <td>3.000000</td>\n",
              "      <td>0.191398</td>\n",
              "      <td>28.750000</td>\n",
              "      <td>0.000000</td>\n",
              "      <td>0.000000</td>\n",
              "      <td>0.397849</td>\n",
              "      <td>0.342967</td>\n",
              "      <td>158.222059</td>\n",
              "      <td>0.307414</td>\n",
              "      <td>0.370787</td>\n",
              "      <td>0.394990</td>\n",
              "      <td>0.157143</td>\n",
              "      <td>1.000000</td>\n",
              "      <td>0.000000</td>\n",
              "      <td>0.000000</td>\n",
              "      <td>0.000000</td>\n",
              "    </tr>\n",
              "    <tr>\n",
              "      <th>75%</th>\n",
              "      <td>671.250000</td>\n",
              "      <td>1.000000</td>\n",
              "      <td>3.000000</td>\n",
              "      <td>0.744939</td>\n",
              "      <td>38.000000</td>\n",
              "      <td>1.000000</td>\n",
              "      <td>0.000000</td>\n",
              "      <td>0.444444</td>\n",
              "      <td>0.421875</td>\n",
              "      <td>158.222059</td>\n",
              "      <td>0.307414</td>\n",
              "      <td>0.474719</td>\n",
              "      <td>0.394990</td>\n",
              "      <td>0.706294</td>\n",
              "      <td>2.000000</td>\n",
              "      <td>0.000000</td>\n",
              "      <td>0.000000</td>\n",
              "      <td>0.000000</td>\n",
              "    </tr>\n",
              "    <tr>\n",
              "      <th>max</th>\n",
              "      <td>890.000000</td>\n",
              "      <td>1.000000</td>\n",
              "      <td>3.000000</td>\n",
              "      <td>0.744939</td>\n",
              "      <td>73.000000</td>\n",
              "      <td>4.000000</td>\n",
              "      <td>2.000000</td>\n",
              "      <td>0.659091</td>\n",
              "      <td>0.527132</td>\n",
              "      <td>158.222059</td>\n",
              "      <td>0.758621</td>\n",
              "      <td>0.573034</td>\n",
              "      <td>0.617021</td>\n",
              "      <td>0.790000</td>\n",
              "      <td>7.000000</td>\n",
              "      <td>1.000000</td>\n",
              "      <td>1.000000</td>\n",
              "      <td>1.000000</td>\n",
              "    </tr>\n",
              "  </tbody>\n",
              "</table>\n",
              "</div>"
            ],
            "text/plain": [
              "       PassengerId    Survived      Pclass         Sex         Age  \\\n",
              "count   712.000000  712.000000  712.000000  712.000000  712.000000   \n",
              "mean    443.283708    0.383427    2.317416    0.383427   29.807584   \n",
              "std     260.003783    0.486563    0.833767    0.263664   14.496489   \n",
              "min       1.000000    0.000000    1.000000    0.191398    0.670000   \n",
              "25%     211.750000    0.000000    2.000000    0.191398   21.000000   \n",
              "50%     441.000000    0.000000    3.000000    0.191398   28.750000   \n",
              "75%     671.250000    1.000000    3.000000    0.744939   38.000000   \n",
              "max     890.000000    1.000000    3.000000    0.744939   73.000000   \n",
              "\n",
              "            SibSp       Parch        Fare    Embarked  Cabin_numerical  \\\n",
              "count  712.000000  712.000000  712.000000  712.000000       712.000000   \n",
              "mean     0.484551    0.353933    0.383427    0.383427       133.956178   \n",
              "std      0.907718    0.673811    0.144616    0.071238        48.398112   \n",
              "min      0.000000    0.000000    0.212121    0.342967         2.000000   \n",
              "25%      0.000000    0.000000    0.232770    0.342967       158.222059   \n",
              "50%      0.000000    0.000000    0.397849    0.342967       158.222059   \n",
              "75%      1.000000    0.000000    0.444444    0.421875       158.222059   \n",
              "max      4.000000    2.000000    0.659091    0.527132       158.222059   \n",
              "\n",
              "       Cabin_categorical  Ticket_numerical  Ticket_categorical       Title  \\\n",
              "count         712.000000        712.000000          712.000000  712.000000   \n",
              "mean            0.383427          0.383427            0.383427    0.383427   \n",
              "std             0.149408          0.118238            0.098434    0.276532   \n",
              "min             0.307414          0.166667            0.080000    0.157143   \n",
              "25%             0.307414          0.321087            0.394990    0.157143   \n",
              "50%             0.307414          0.370787            0.394990    0.157143   \n",
              "75%             0.307414          0.474719            0.394990    0.706294   \n",
              "max             0.758621          0.573034            0.617021    0.790000   \n",
              "\n",
              "       Family_size   is_mother      Age_NA  Ticket_numerical_NA  \n",
              "count   712.000000  712.000000  712.000000           712.000000  \n",
              "mean      1.875000    0.067416    0.198034             0.005618  \n",
              "std       1.460148    0.250917    0.398798             0.074795  \n",
              "min       1.000000    0.000000    0.000000             0.000000  \n",
              "25%       1.000000    0.000000    0.000000             0.000000  \n",
              "50%       1.000000    0.000000    0.000000             0.000000  \n",
              "75%       2.000000    0.000000    0.000000             0.000000  \n",
              "max       7.000000    1.000000    1.000000             1.000000  "
            ]
          },
          "metadata": {
            "tags": []
          },
          "execution_count": 80
        }
      ]
    },
    {
      "cell_type": "code",
      "metadata": {
        "id": "SJyUvmj46sEK",
        "colab_type": "code",
        "colab": {}
      },
      "source": [
        "variables_that_need_scaling = ['Pclass', 'Age', 'Sibsp', 'Parch', 'Cabin_numerical', 'Family_size']"
      ],
      "execution_count": 0,
      "outputs": []
    },
    {
      "cell_type": "code",
      "metadata": {
        "id": "wb759x8I6sEM",
        "colab_type": "code",
        "colab": {
          "base_uri": "https://localhost:8080/",
          "height": 286
        },
        "outputId": "ed52229c-42f4-4a1f-dfa5-3579fcfecd9e"
      },
      "source": [
        "training_vars = [var for var in X_train.columns if var not in ['PassengerId', 'Survived']]\n",
        "training_vars"
      ],
      "execution_count": 82,
      "outputs": [
        {
          "output_type": "execute_result",
          "data": {
            "text/plain": [
              "['Pclass',\n",
              " 'Sex',\n",
              " 'Age',\n",
              " 'SibSp',\n",
              " 'Parch',\n",
              " 'Fare',\n",
              " 'Embarked',\n",
              " 'Cabin_numerical',\n",
              " 'Cabin_categorical',\n",
              " 'Ticket_numerical',\n",
              " 'Ticket_categorical',\n",
              " 'Title',\n",
              " 'Family_size',\n",
              " 'is_mother',\n",
              " 'Age_NA',\n",
              " 'Ticket_numerical_NA']"
            ]
          },
          "metadata": {
            "tags": []
          },
          "execution_count": 82
        }
      ]
    },
    {
      "cell_type": "code",
      "metadata": {
        "id": "Oyvb4Huo6sEN",
        "colab_type": "code",
        "colab": {
          "base_uri": "https://localhost:8080/",
          "height": 34
        },
        "outputId": "a6aa9ebc-49ae-43e8-b347-4451b3f1f82a"
      },
      "source": [
        "# fit scaler\n",
        "scaler = MinMaxScaler() # create an instance\n",
        "scaler.fit(X_train[training_vars]) #  fit  the scaler to the train set and then transform it"
      ],
      "execution_count": 83,
      "outputs": [
        {
          "output_type": "execute_result",
          "data": {
            "text/plain": [
              "MinMaxScaler(copy=True, feature_range=(0, 1))"
            ]
          },
          "metadata": {
            "tags": []
          },
          "execution_count": 83
        }
      ]
    },
    {
      "cell_type": "markdown",
      "metadata": {
        "id": "ixVjStdn6sEQ",
        "colab_type": "text"
      },
      "source": [
        "The scaler is now ready, we can use it in a machine learning algorithm when required. See below.\n",
        "\n",
        "### Machine Learning algorithm"
      ]
    },
    {
      "cell_type": "markdown",
      "metadata": {
        "id": "Qh0sjcN46sEd",
        "colab_type": "text"
      },
      "source": [
        "#### Random Forests"
      ]
    },
    {
      "cell_type": "code",
      "metadata": {
        "id": "rl2zZcYm6sEd",
        "colab_type": "code",
        "colab": {
          "base_uri": "https://localhost:8080/",
          "height": 50
        },
        "outputId": "f354b35e-c7a4-444f-b466-a5f38168db22"
      },
      "source": [
        "rf_model = RandomForestClassifier()\n",
        "rf_model.fit(X_train[training_vars], y_train)\n",
        "\n",
        "pred = rf_model.predict_proba(X_train[training_vars])\n",
        "print('RF train roc-auc: {}'.format(roc_auc_score(y_train, pred[:,1])))\n",
        "pred = rf_model.predict_proba(X_test[training_vars])\n",
        "print('RF test roc-auc: {}'.format(roc_auc_score(y_test, pred[:,1])))"
      ],
      "execution_count": 84,
      "outputs": [
        {
          "output_type": "stream",
          "text": [
            "RF train roc-auc: 0.9977805034752643\n",
            "RF test roc-auc: 0.8889328063241106\n"
          ],
          "name": "stdout"
        }
      ]
    },
    {
      "cell_type": "markdown",
      "metadata": {
        "id": "tQg6kRt96sEh",
        "colab_type": "text"
      },
      "source": [
        "#### Adaboost"
      ]
    },
    {
      "cell_type": "code",
      "metadata": {
        "id": "7-CLhT806sEn",
        "colab_type": "code",
        "colab": {
          "base_uri": "https://localhost:8080/",
          "height": 50
        },
        "outputId": "c4f67cdc-f1f3-469d-dc63-6e6f0c3059a8"
      },
      "source": [
        "ada_model = AdaBoostClassifier()\n",
        "ada_model.fit(X_train[training_vars], y_train)\n",
        "\n",
        "pred = ada_model.predict_proba(X_train[training_vars])\n",
        "print('Adaboost train roc-auc: {}'.format(roc_auc_score(y_train, pred[:,1])))\n",
        "pred = ada_model.predict_proba(X_test[training_vars])\n",
        "print('Adaboost test roc-auc: {}'.format(roc_auc_score(y_test, pred[:,1])))"
      ],
      "execution_count": 85,
      "outputs": [
        {
          "output_type": "stream",
          "text": [
            "Adaboost train roc-auc: 0.897344113745025\n",
            "Adaboost test roc-auc: 0.8706192358366271\n"
          ],
          "name": "stdout"
        }
      ]
    },
    {
      "cell_type": "markdown",
      "metadata": {
        "id": "60kY3skH6sEq",
        "colab_type": "text"
      },
      "source": [
        "#### Logistic regression"
      ]
    },
    {
      "cell_type": "code",
      "metadata": {
        "id": "HqiHw37b6sEq",
        "colab_type": "code",
        "colab": {
          "base_uri": "https://localhost:8080/",
          "height": 50
        },
        "outputId": "1c4b6dae-cb15-4590-ccf7-0fe014218d82"
      },
      "source": [
        "logit_model = LogisticRegression()\n",
        "logit_model.fit(scaler.transform(X_train[training_vars]), y_train)\n",
        "\n",
        "pred = logit_model.predict_proba(scaler.transform(X_train[training_vars]))\n",
        "print('Logit train roc-auc: {}'.format(roc_auc_score(y_train, pred[:,1])))\n",
        "pred = ada_model.predict_proba(scaler.transform(X_test[training_vars]))\n",
        "print('Logit test roc-auc: {}'.format(roc_auc_score(y_test, pred[:,1])))"
      ],
      "execution_count": 86,
      "outputs": [
        {
          "output_type": "stream",
          "text": [
            "Logit train roc-auc: 0.8724915934483133\n",
            "Logit test roc-auc: 0.8268774703557312\n"
          ],
          "name": "stdout"
        }
      ]
    },
    {
      "cell_type": "markdown",
      "metadata": {
        "id": "IAAjnSLP6sFE",
        "colab_type": "text"
      },
      "source": [
        "### Feature importance"
      ]
    },
    {
      "cell_type": "code",
      "metadata": {
        "id": "6GuAENVZ6sFE",
        "colab_type": "code",
        "colab": {
          "base_uri": "https://localhost:8080/",
          "height": 489
        },
        "outputId": "7e7a5186-08e9-43e0-a634-db2d47aa66e5"
      },
      "source": [
        "importance = pd.Series(rf_model.feature_importances_)\n",
        "importance.index = training_vars\n",
        "importance.sort_values(inplace=True, ascending=False)\n",
        "importance.plot.bar(figsize=(12,6))"
      ],
      "execution_count": 95,
      "outputs": [
        {
          "output_type": "execute_result",
          "data": {
            "text/plain": [
              "<matplotlib.axes._subplots.AxesSubplot at 0x7f616e44a438>"
            ]
          },
          "metadata": {
            "tags": []
          },
          "execution_count": 95
        },
        {
          "output_type": "display_data",
          "data": {
            "image/png": "[encoded data removed]",
            "text/plain": [
              "<Figure size 864x432 with 1 Axes>"
            ]
          },
          "metadata": {
            "tags": []
          }
        }
      ]
    },
    {
      "cell_type": "code",
      "metadata": {
        "id": "dC5a3uc16sFb",
        "colab_type": "code",
        "colab": {
          "base_uri": "https://localhost:8080/",
          "height": 489
        },
        "outputId": "8b99d66a-e2ab-4eb8-a524-45fc7c99603e"
      },
      "source": [
        "importance = pd.Series(np.abs(logit_model.coef_.ravel()))\n",
        "importance.index = training_vars\n",
        "importance.sort_values(inplace=True, ascending=False)\n",
        "importance.plot.bar(figsize=(12,6))"
      ],
      "execution_count": 96,
      "outputs": [
        {
          "output_type": "execute_result",
          "data": {
            "text/plain": [
              "<matplotlib.axes._subplots.AxesSubplot at 0x7f616e57d518>"
            ]
          },
          "metadata": {
            "tags": []
          },
          "execution_count": 96
        },
        {
          "output_type": "display_data",
          "data": {
            "image/png": "[encoded data removed]",
            "text/plain": [
              "<Figure size 864x432 with 1 Axes>"
            ]
          },
          "metadata": {
            "tags": []
          }
        }
      ]
    }
  ]
}